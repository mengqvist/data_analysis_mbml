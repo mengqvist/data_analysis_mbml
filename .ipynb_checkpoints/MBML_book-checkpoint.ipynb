{
 "cells": [
  {
   "cell_type": "markdown",
   "metadata": {},
   "source": [
    "## Pyro code for examples in MBML book by John Winn\n",
    "#### Based on version 0.7 of the early access version (www.mbmlbook.com)\n",
    "Implementation and testing of ideas from the book"
   ]
  },
  {
   "cell_type": "code",
   "execution_count": 2,
   "metadata": {},
   "outputs": [
    {
     "data": {
      "text/plain": [
       "'pyro version: 1.4.0'"
      ]
     },
     "metadata": {},
     "output_type": "display_data"
    }
   ],
   "source": [
    "import matplotlib.pyplot as plt\n",
    "import numpy as np\n",
    "import operator\n",
    "\n",
    "import torch\n",
    "\n",
    "import pyro\n",
    "import pyro.infer\n",
    "import pyro.optim\n",
    "import pyro.distributions as dist\n",
    "from pyro import param\n",
    "from pyro.poutine import trace\n",
    "from pyro import condition\n",
    "from pyro.optim import Adam, ClippedAdam\n",
    "from pyro.infer import SVI, Trace_ELBO, HMC, MCMC, NUTS\n",
    "from pyro.contrib.autoguide import AutoDiagonalNormal, AutoMultivariateNormal, AutoContinuous\n",
    "\n",
    "from torch import tensor\n",
    "from pprint import pprint\n",
    "\n",
    "\n",
    "import pandas as pd\n",
    "import matplotlib.pyplot as plt\n",
    "\n",
    "from functools import reduce\n",
    "\n",
    "from os.path import join, exists, basename\n",
    "\n",
    "\n",
    "display('pyro version: {}'.format(pyro.__version__))\n",
    "\n",
    "pyro.set_rng_seed(101)"
   ]
  },
  {
   "cell_type": "markdown",
   "metadata": {},
   "source": [
    "# Some warmup exercises to understand distributions"
   ]
  },
  {
   "cell_type": "markdown",
   "metadata": {},
   "source": [
    "#### Page 17, bullet 4\n",
    "\n",
    "Define a Bernoulli distribution with a probability estimate of 0.3, then look at frequency of True/False in this disribution"
   ]
  },
  {
   "cell_type": "code",
   "execution_count": 24,
   "metadata": {},
   "outputs": [
    {
     "name": "stdout",
     "output_type": "stream",
     "text": [
      "num True: 30\n"
     ]
    }
   ],
   "source": [
    "murderer = dist.Bernoulli(0.3)\n",
    "\n",
    "print('num True:', int(sum([pyro.sample('murderer', murderer) for s in range(100)])))"
   ]
  },
  {
   "cell_type": "markdown",
   "metadata": {},
   "source": [
    "#### Page 23, bullet 3\n",
    "\n",
    "Make the probability of being late conditioned on whether traffic is good or bad"
   ]
  },
  {
   "cell_type": "code",
   "execution_count": 25,
   "metadata": {},
   "outputs": [
    {
     "name": "stdout",
     "output_type": "stream",
     "text": [
      "late in bad traffic: 42 late in good traffic: 1\n"
     ]
    }
   ],
   "source": [
    "late = {'bad':dist.Bernoulli(0.5), 'good':dist.Bernoulli(0.05)}\n",
    "\n",
    "print('late in bad traffic:', int(sum([pyro.sample('bad', late['bad']) for s in range(100)])), \n",
    "      'late in good traffic:', int(sum([pyro.sample('good', late['good']) for s in range(100)])))"
   ]
  },
  {
   "cell_type": "markdown",
   "metadata": {},
   "source": [
    "#### Page 31, bullet 4\n",
    "\n",
    "Print out 1000 joint samples of both variables"
   ]
  },
  {
   "cell_type": "code",
   "execution_count": 53,
   "metadata": {},
   "outputs": [
    {
     "name": "stdout",
     "output_type": "stream",
     "text": [
      "bad traffic and late 531\n",
      "bad traffic and on time 505\n",
      "good traffic and late 53\n",
      "good traffic and on time 945\n"
     ]
    }
   ],
   "source": [
    "late = {'bad':dist.Bernoulli(0.5), 'good':dist.Bernoulli(0.05)}\n",
    "\n",
    "print('bad traffic and late', int(sum([pyro.sample('badlate', late['bad']) for s in range(1000)])))\n",
    "print('bad traffic and on time', 1000-int(sum([pyro.sample('badontime', late['bad']) for s in range(1000)])))\n",
    "print('good traffic and late', int(sum([pyro.sample('goodlate', late['good']) for s in range(1000)])))\n",
    "print('good traffic and on time', 1000-int(sum([pyro.sample('goodontime', late['good']) for s in range(1000)])))"
   ]
  },
  {
   "cell_type": "markdown",
   "metadata": {},
   "source": [
    "# Chapter 1\n",
    "## A murder mystery \n",
    "#### Pages 13-46\n",
    "\n",
    "<img src=\"images/house.png\" width=\"250\"/>\n",
    "\n",
    "**Problem statement:** Mr Black lies dead on the floor. The two murder suspects are Miss Auburn and Major Grey. There are two possible murder weapons, a revolver and a knife. Finally, a grey hair is found and this could either have been dropped by Grey if he is the killer or it could have placed by Auburn if she is the killer. The goal of this problem is to incorporate evidence and update beliefs regarding who the killer might be.\n",
    "\n",
    "\\\n",
    "**Prior:** Initial suspicion is toward Miss Auburn with a probability of 70%, giving: \n",
    "\n",
    "\\begin{align} \n",
    "P(murderer=Auburn)=0.7 \\\\\n",
    "P(murderer=Grey)=0.3\n",
    "\\end{align}\n",
    "\n",
    "\\\n",
    "**Weapon:** There are two possible murder weapons, a revolver and a dagger. The probabilities of each being used is conditional on the killer, giving:\n",
    "\n",
    "\\begin{align} \n",
    "P(weapon=revolver|murderer=Auburn)=0.2 \\\\\n",
    "P(weapon=knife|murderer=Auburn)=0.8 \\\\\n",
    "P(weapon=revolver|murderer=Grey)=0.9 \\\\\n",
    "P(weapon=knife|murderer=Grey)=0.1\n",
    "\\end{align}\n",
    "\n",
    "\n",
    "\\\n",
    "**Hair:** A hair is found at the crime scene. Indicating Major Grey. However it could also have been planted by Auburn. We think there is a 50% chance that Grey would drop the hair if he is the killer, but only a 5% chance that Auburn would think to plant a grey hair in the crime scene.\n",
    "\\begin{align} \n",
    "P(hair=true|murderer=Auburn)=0.05 \\\\\n",
    "P(hair=false|murderer=Auburn)=0.95 \\\\\n",
    "P(hair=true|murderer=Grey)=0.5 \\\\\n",
    "P(hair=false|murderer=Grey)=0.5\n",
    "\\end{align}\n",
    "\n",
    "\n",
    "**Factor graph:**\n",
    "<img src=\"images/chapter_1.png\" width=\"250\"/>"
   ]
  },
  {
   "cell_type": "code",
   "execution_count": 5,
   "metadata": {},
   "outputs": [],
   "source": [
    "# build murder mystery model\n",
    "\n",
    "murderer_dict = {0:'Grey', 1:'Auburn'}\n",
    "weapon_dict = {0:'Knife', 1:'Revolver'}\n",
    "hair_dict = {0:'Not found', 1:'Found'}\n",
    "\n",
    "def murder_case():\n",
    "    '''\n",
    "    The murder case model. Weapon and hair\n",
    "    conditional on the murderer.\n",
    "    '''\n",
    "    \n",
    "    # probability of murderer (0 is Grey and 1 is Auburn)\n",
    "    murderer = pyro.sample('murderer', dist.Bernoulli(0.7)).item()\n",
    "\n",
    "    # probability of weapon conditional on murderer (0 is knife and 1 is revolver)\n",
    "    weapon = pyro.sample('weapon', {'Grey':dist.Bernoulli(0.9), 'Auburn':dist.Bernoulli(0.2)}[murderer_dict[murderer]])\n",
    "\n",
    "    # probability of hair found conditional on murderer (0 is not found and 1 is found)\n",
    "    hair = pyro.sample('hair', {'Grey':dist.Bernoulli(0.5), 'Auburn':dist.Bernoulli(0.05)}[murderer_dict[murderer]])\n"
   ]
  },
  {
   "cell_type": "markdown",
   "metadata": {},
   "source": [
    "### We can explore the model using repeated sampling"
   ]
  },
  {
   "cell_type": "markdown",
   "metadata": {},
   "source": [
    "**We first look at all the variables in the model.** $P(murderer)$, $P(weapon)$, $P(hair)$\n",
    "\n",
    "These correspond to our initial beliefs."
   ]
  },
  {
   "cell_type": "code",
   "execution_count": 7,
   "metadata": {},
   "outputs": [
    {
     "data": {
      "image/png": "[encoded data removed]",
      "text/plain": [
       "<Figure size 432x288 with 4 Axes>"
      ]
     },
     "metadata": {
      "needs_background": "light"
     },
     "output_type": "display_data"
    }
   ],
   "source": [
    "    \n",
    "# make plots of the various probabilities involved\n",
    "num_samples = 1000\n",
    "traces = []\n",
    "\n",
    "for _ in range(num_samples):\n",
    "    tr = trace(murder_case).get_trace()\n",
    "    values = {\n",
    "        name: props['value'].item()\n",
    "        for (name, props) in tr.nodes.items()\n",
    "        if props['type'] == 'sample'\n",
    "    }\n",
    "    traces.append(values)\n",
    "\n",
    "_ = pd.DataFrame(traces).hist()\n"
   ]
  },
  {
   "cell_type": "markdown",
   "metadata": {},
   "source": [
    "**We can condition the model** and ask what the joint probability for an outcome is. For example, how likely is the outcome that Auburn is the killer, the revolver was used and the hair is found $P(murderer=Auburn, weapon=Revolver, hair=true)$? Note that this is *not* the likelyhood that Auburn is the killer given the evidence, it is the likelyhood of the overall outcome at the outset."
   ]
  },
  {
   "cell_type": "code",
   "execution_count": 17,
   "metadata": {},
   "outputs": [
    {
     "name": "stdout",
     "output_type": "stream",
     "text": [
      "Joint probability for this particular outcome: 0.007\n"
     ]
    }
   ],
   "source": [
    "# Condition the model\n",
    "cond_model = condition(murder_case, {\n",
    "    \"murderer\": tensor(1.),\n",
    "    \"weapon\": tensor(1.),\n",
    "    \"hair\": tensor(1.)\n",
    "})\n",
    "\n",
    "\n",
    "# setup trace\n",
    "tr = trace(cond_model).get_trace()\n",
    "\n",
    "print('Joint probability for this particular outcome: {:.2}'.format(tr.log_prob_sum().exp().item()))"
   ]
  },
  {
   "cell_type": "markdown",
   "metadata": {},
   "source": [
    "**To find the relative probability** of the two potential murderers given the evidence of the revolver and hair we need to compute both. $P(murderer=Auburn|weapon=Revolver, hair=true)$ and $P(murderer=Grey|weapon=Revolver, hair=true)$"
   ]
  },
  {
   "cell_type": "code",
   "execution_count": 18,
   "metadata": {},
   "outputs": [
    {
     "name": "stdout",
     "output_type": "stream",
     "text": [
      "After seeing evidence the probability for Auburn being the murderer is 0.049 and Grey is 0.95.\n"
     ]
    }
   ],
   "source": [
    "# Condition the model for Auburn\n",
    "cond_model = condition(murder_case, {\n",
    "    \"murderer\": tensor(1.),\n",
    "    \"weapon\": tensor(1.),\n",
    "    \"hair\": tensor(1.)\n",
    "})\n",
    "\n",
    "tr = trace(cond_model).get_trace()\n",
    "auburn = tr.log_prob_sum().exp()\n",
    "\n",
    "\n",
    "# Condition the model for Grey\n",
    "cond_model = condition(murder_case, {\n",
    "    \"murderer\": tensor(0.),\n",
    "    \"weapon\": tensor(1.),\n",
    "    \"hair\": tensor(1.)\n",
    "})\n",
    "\n",
    "# Compute the probabilities\n",
    "tr = trace(cond_model).get_trace()\n",
    "grey = tr.log_prob_sum().exp()\n",
    "\n",
    "\n",
    "# calculate the relative probabilities\n",
    "auburn_prob = auburn/(auburn+grey)\n",
    "grey_prob = grey/(auburn+grey)\n",
    "\n",
    "print('After seeing evidence the probability for Auburn being the murderer is {:.2} and Grey is {:.2}.'.format(auburn_prob, grey_prob))"
   ]
  },
  {
   "cell_type": "markdown",
   "metadata": {},
   "source": [
    "### We can also use variational inference to look at latent variables\n",
    "This will become useful for larger models."
   ]
  },
  {
   "cell_type": "markdown",
   "metadata": {},
   "source": [
    "**To find the probability** of Auborn being the murderer, after seeing the revolver evidence. $P(murderer=Auburn|weapon=Revolver)$"
   ]
  },
  {
   "cell_type": "code",
   "execution_count": 37,
   "metadata": {},
   "outputs": [
    {
     "name": "stdout",
     "output_type": "stream",
     "text": [
      "Probability for Auburn being the murderer is now 0.36\n"
     ]
    },
    {
     "data": {
      "image/png": "[encoded data removed]",
      "text/plain": [
       "<Figure size 432x288 with 1 Axes>"
      ]
     },
     "metadata": {
      "needs_background": "light"
     },
     "output_type": "display_data"
    },
    {
     "data": {
      "image/png": "[encoded data removed]",
      "text/plain": [
       "<Figure size 432x288 with 4 Axes>"
      ]
     },
     "metadata": {
      "needs_background": "light"
     },
     "output_type": "display_data"
    }
   ],
   "source": [
    "\n",
    "def case_guide():\n",
    "    '''\n",
    "    Guide function used to find optimal values of latent variables.\n",
    "    '''\n",
    "    # Constraints ensure facts always remain true during optimization,\n",
    "    # e.g. that the parameter of a Bernoulli is always between 0 and 1\n",
    "    valid_prob = dist.constraints.interval(0., 1.)\n",
    "    mu_p = param('mu_p', tensor(0.7), constraint=valid_prob)\n",
    "    murderer = pyro.sample('murderer', dist.Bernoulli(mu_p))\n",
    "\n",
    "    # probability of weapon conditional on murderer (0 is knife and 1 is revolver)\n",
    "    weapon = pyro.sample('weapon', {'Grey':dist.Bernoulli(0.9), 'Auburn':dist.Bernoulli(0.2)}[murderer_dict[murderer.item()]])\n",
    "    \n",
    "    # probability of hair found conditional on murderer (0 is not found and 1 is found)\n",
    "    hair = pyro.sample('hair', {'Grey':dist.Bernoulli(0.5), 'Auburn':dist.Bernoulli(0.05)}[murderer_dict[murderer.item()]])\n",
    "\n",
    "    \n",
    "\n",
    "# remove previous\n",
    "pyro.clear_param_store()\n",
    "\n",
    "# Condition the model on having seen the revolver\n",
    "cond_model = condition(murder_case, {\n",
    "    \"weapon\": tensor(1.)\n",
    "})\n",
    "# Condition the guide on having seen the revolver\n",
    "cond_case_guide = condition(case_guide, {\n",
    "    \"weapon\": tensor(1.)\n",
    "})\n",
    "\n",
    "\n",
    "adam = Adam({\"lr\": 0.005, \"betas\": (0.90, 0.999)})\n",
    "svi = SVI(cond_model, case_guide, adam, loss=Trace_ELBO())\n",
    "\n",
    "param_vals = []\n",
    "for _ in range(2000):\n",
    "    svi.step()\n",
    "    param_vals.append({k: param(k).item() for k in [\"mu_p\"]})\n",
    "\n",
    "    \n",
    "# plot the parameter\n",
    "pd.DataFrame(param_vals).plot(subplots=True)\n",
    "  \n",
    "      \n",
    "# make plots of the various probabilities involved\n",
    "traces = []\n",
    "for _ in range(10000):\n",
    "    tr = trace(case_guide).get_trace()\n",
    "    values = {\n",
    "        name: props['value'].item()\n",
    "        for (name, props) in tr.nodes.items()\n",
    "        if props['type'] == 'sample'\n",
    "    }\n",
    "    traces.append(values)\n",
    "\n",
    "_ = pd.DataFrame(traces).hist()\n",
    "\n",
    "\n",
    "# what is the murderer probability now?\n",
    "tr = trace(case_guide).get_trace()\n",
    "print('Probability for Auburn being the murderer is now {:.2}'.format(tr.nodes['mu_p']['value'].item()))"
   ]
  },
  {
   "cell_type": "markdown",
   "metadata": {},
   "source": [
    "**To find the probability** of Auborn being the murderer, after seeing the revolver *and* hair evidence $P(murderer=Auburn|weapon=Revolver, hair=true)$. This will be the same value (or at least very similar, depending on how many iterations are used) as the 0.049 from a few cells above where we computed relative probability."
   ]
  },
  {
   "cell_type": "code",
   "execution_count": 38,
   "metadata": {},
   "outputs": [
    {
     "name": "stdout",
     "output_type": "stream",
     "text": [
      "Probability for Auburn being the murderer is now 0.044\n",
      "CPU times: user 10.2 s, sys: 73.1 ms, total: 10.3 s\n",
      "Wall time: 10.3 s\n"
     ]
    },
    {
     "data": {
      "image/png": "[encoded data removed]",
      "text/plain": [
       "<Figure size 432x288 with 1 Axes>"
      ]
     },
     "metadata": {
      "needs_background": "light"
     },
     "output_type": "display_data"
    },
    {
     "data": {
      "image/png": "[encoded data removed]",
      "text/plain": [
       "<Figure size 432x288 with 4 Axes>"
      ]
     },
     "metadata": {
      "needs_background": "light"
     },
     "output_type": "display_data"
    }
   ],
   "source": [
    "%%time\n",
    "\n",
    "# remove previous\n",
    "pyro.clear_param_store()\n",
    "\n",
    "# Condition the model on having seen the revolver and hair\n",
    "cond_model = condition(murder_case, {\n",
    "    \"weapon\": tensor(1.),\n",
    "    \"hair\": tensor(1.)\n",
    "})\n",
    "    \n",
    "\n",
    "# Condition the guide on having seen the revolver and hair\n",
    "cond_case_guide = condition(case_guide, {\n",
    "    \"weapon\": tensor(1.),\n",
    "    \"hair\": tensor(1.)\n",
    "})\n",
    "\n",
    "adam = Adam({\"lr\": 0.01, \"betas\": (0.90, 0.999)})\n",
    "svi = SVI(cond_model, cond_case_guide, adam, loss=Trace_ELBO())\n",
    "\n",
    "param_vals = []\n",
    "for _ in range(5000):\n",
    "    svi.step()\n",
    "    param_vals.append({k: param(k).item() for k in [\"mu_p\"]})\n",
    "\n",
    "    \n",
    "# plot the loss\n",
    "pd.DataFrame(param_vals).plot(subplots=True)\n",
    "      \n",
    "      \n",
    "# make plots of the various probabilities involved\n",
    "traces = []\n",
    "for _ in range(10000):\n",
    "    tr = trace(cond_case_guide).get_trace()\n",
    "    values = {\n",
    "        name: props['value'].item()\n",
    "        for (name, props) in tr.nodes.items()\n",
    "        if props['type'] == 'sample'\n",
    "    }\n",
    "    traces.append(values)\n",
    "\n",
    "_ = pd.DataFrame(traces).hist()\n",
    "\n",
    "\n",
    "# what is the murderer probability now?\n",
    "tr = trace(cond_case_guide).get_trace()\n",
    "print('Probability for Auburn being the murderer is now {:.2}'.format(tr.nodes['mu_p']['value'].item()))"
   ]
  },
  {
   "cell_type": "markdown",
   "metadata": {},
   "source": [
    "# Chapter 2\n",
    "## Assessing people's skils\n",
    "#### Pages 47-68\n",
    "\n",
    "<img src=\"images/skills.png\" width=\"250\"/>\n",
    "\n",
    "**Problem statement:** \n",
    "The problem of assessing candidates for a job that requires certain skills is adressed. The idea is that candidates will take a multiple-choice test and we will use model-based machine learning to determine which skills each candidate has (and with what probability) given their answers in the test. We can then use this for tasks such as selecting a shortlist of candidates very likely to have a set of essential skills.\n",
    "\n",
    "**Prior:** Several assumptions are used to construct the model.\n",
    "1. Each candidate has either mastered each skill or not.\n",
    "2. Before seeing any test results, it is equally likely that each candidate does or doesn't have any particular skill.\n",
    "3. If a candidate has all of the skills neede for a question then they will get the question right, except one time in ten they will make a mistake.\n",
    "4. If a candidate doesn't have all the skills needed for a question, they will pick an answer at random. Because this is a multiple-choice exam with five answers, there's one in five chance that they get the question right.\n",
    "5. Whether the candidate gets a question right depends only on what skills that candidate has and not on anything else.\n",
    "\n",
    "**Factor graph:** To capture these assumptions, for two skills and a single individual, a factor graph is constructed.\n",
    "<img src=\"images/chapter_2.png\" width=\"400\"/>"
   ]
  },
  {
   "cell_type": "markdown",
   "metadata": {},
   "source": [
    "**Implement the model**"
   ]
  },
  {
   "cell_type": "code",
   "execution_count": 43,
   "metadata": {},
   "outputs": [],
   "source": [
    "def skill_model():\n",
    "    '''\n",
    "    A model representing the first three questions of the exam.\n",
    "    '''\n",
    "    csharp = pyro.sample('csharp', dist.Bernoulli(0.5))\n",
    "    sql = pyro.sample('sql', dist.Bernoulli(0.5))\n",
    "       \n",
    "    hasskills = tensor(1.) if csharp and sql == tensor(1.) else tensor(0.)\n",
    "        \n",
    "    iscorrect1 = pyro.sample('iscorrect1', dist.Bernoulli(0.9 if csharp == tensor(1.) else 0.2))\n",
    "    iscorrect2 = pyro.sample('iscorrect2', dist.Bernoulli(0.9 if sql == tensor(1.) else 0.2))\n",
    "    iscorrect3 = pyro.sample('iscorrect3', dist.Bernoulli(0.9 if hasskills == tensor(1.) else 0.2))"
   ]
  },
  {
   "cell_type": "markdown",
   "metadata": {},
   "source": [
    "**Let's take a look at the variables in the model**"
   ]
  },
  {
   "cell_type": "code",
   "execution_count": 44,
   "metadata": {},
   "outputs": [
    {
     "name": "stdout",
     "output_type": "stream",
     "text": [
      "CPU times: user 3.14 s, sys: 3.77 ms, total: 3.15 s\n",
      "Wall time: 3.15 s\n"
     ]
    },
    {
     "data": {
      "image/png": "[encoded data removed]",
      "text/plain": [
       "<Figure size 432x288 with 6 Axes>"
      ]
     },
     "metadata": {
      "needs_background": "light"
     },
     "output_type": "display_data"
    }
   ],
   "source": [
    "%%time \n",
    "\n",
    "traces = []\n",
    "for _ in range(10000):\n",
    "    tr = trace(skill_model).get_trace()\n",
    "    values = {\n",
    "        name: props['value'].item()\n",
    "        for (name, props) in tr.nodes.items()\n",
    "        if props['type'] == 'sample'\n",
    "    }\n",
    "    traces.append(values)\n",
    "\n",
    "_ = pd.DataFrame(traces).hist()\n",
    "plt.tight_layout()"
   ]
  },
  {
   "cell_type": "markdown",
   "metadata": {},
   "source": [
    "## Variational inference"
   ]
  },
  {
   "cell_type": "markdown",
   "metadata": {},
   "source": [
    "**Define a guide function to help me solve conditioned models**"
   ]
  },
  {
   "cell_type": "code",
   "execution_count": 45,
   "metadata": {},
   "outputs": [],
   "source": [
    "def skill_guide():\n",
    "    '''\n",
    "    Guide function used to find optimal values of latent variables.\n",
    "    '''\n",
    "    valid_prob = dist.constraints.interval(0., 1.)\n",
    "    cs_p = param('cs_p', tensor(0.5), constraint=valid_prob)\n",
    "    sq_p = param('sq_p', tensor(0.5), constraint=valid_prob)\n",
    "    \n",
    "    csharp = pyro.sample('csharp', dist.Bernoulli(cs_p))\n",
    "    sql = pyro.sample('sql', dist.Bernoulli(sq_p))\n",
    "        \n",
    "    hasskills = tensor(1.) if csharp and sql == tensor(1.) else tensor(0.)\n",
    "        \n",
    "    iscorrect1 = pyro.sample('iscorrect1', dist.Bernoulli(0.9 if csharp == tensor(1.) else 0.2))\n",
    "    iscorrect2 = pyro.sample('iscorrect2', dist.Bernoulli(0.9 if sql == tensor(1.) else 0.2))\n",
    "    iscorrect3 = pyro.sample('iscorrect3', dist.Bernoulli(0.9 if hasskills == tensor(1.) else 0.2))"
   ]
  },
  {
   "cell_type": "markdown",
   "metadata": {},
   "source": [
    "**Now get the latent variable probabilities for all outcomes**"
   ]
  },
  {
   "cell_type": "code",
   "execution_count": 48,
   "metadata": {
    "scrolled": true
   },
   "outputs": [
    {
     "name": "stdout",
     "output_type": "stream",
     "text": [
      "tensor(0.) tensor(0.) tensor(0.)\n"
     ]
    },
    {
     "data": {
      "image/png": "[encoded data removed]",
      "text/plain": [
       "<Figure size 432x288 with 1 Axes>"
      ]
     },
     "metadata": {
      "needs_background": "light"
     },
     "output_type": "display_data"
    },
    {
     "data": {
      "image/png": "[encoded data removed]",
      "text/plain": [
       "<Figure size 432x288 with 2 Axes>"
      ]
     },
     "metadata": {
      "needs_background": "light"
     },
     "output_type": "display_data"
    },
    {
     "name": "stdout",
     "output_type": "stream",
     "text": [
      "tensor(1.) tensor(0.) tensor(0.)\n"
     ]
    },
    {
     "data": {
      "image/png": "[encoded data removed]",
      "text/plain": [
       "<Figure size 432x288 with 1 Axes>"
      ]
     },
     "metadata": {
      "needs_background": "light"
     },
     "output_type": "display_data"
    },
    {
     "data": {
      "image/png": "[encoded data removed]",
      "text/plain": [
       "<Figure size 432x288 with 2 Axes>"
      ]
     },
     "metadata": {
      "needs_background": "light"
     },
     "output_type": "display_data"
    },
    {
     "name": "stdout",
     "output_type": "stream",
     "text": [
      "tensor(0.) tensor(1.) tensor(0.)\n"
     ]
    },
    {
     "data": {
      "image/png": "[encoded data removed]",
      "text/plain": [
       "<Figure size 432x288 with 1 Axes>"
      ]
     },
     "metadata": {
      "needs_background": "light"
     },
     "output_type": "display_data"
    },
    {
     "data": {
      "image/png": "[encoded data removed]",
      "text/plain": [
       "<Figure size 432x288 with 2 Axes>"
      ]
     },
     "metadata": {
      "needs_background": "light"
     },
     "output_type": "display_data"
    },
    {
     "name": "stdout",
     "output_type": "stream",
     "text": [
      "tensor(1.) tensor(1.) tensor(0.)\n"
     ]
    },
    {
     "data": {
      "image/png": "[encoded data removed]",
      "text/plain": [
       "<Figure size 432x288 with 1 Axes>"
      ]
     },
     "metadata": {
      "needs_background": "light"
     },
     "output_type": "display_data"
    },
    {
     "data": {
      "image/png": "[encoded data removed]",
      "text/plain": [
       "<Figure size 432x288 with 2 Axes>"
      ]
     },
     "metadata": {
      "needs_background": "light"
     },
     "output_type": "display_data"
    },
    {
     "name": "stdout",
     "output_type": "stream",
     "text": [
      "tensor(0.) tensor(0.) tensor(1.)\n"
     ]
    },
    {
     "data": {
      "image/png": "[encoded data removed]",
      "text/plain": [
       "<Figure size 432x288 with 1 Axes>"
      ]
     },
     "metadata": {
      "needs_background": "light"
     },
     "output_type": "display_data"
    },
    {
     "data": {
      "image/png": "[encoded data removed]",
      "text/plain": [
       "<Figure size 432x288 with 2 Axes>"
      ]
     },
     "metadata": {
      "needs_background": "light"
     },
     "output_type": "display_data"
    },
    {
     "name": "stdout",
     "output_type": "stream",
     "text": [
      "tensor(1.) tensor(0.) tensor(1.)\n"
     ]
    },
    {
     "data": {
      "image/png": "[encoded data removed]",
      "text/plain": [
       "<Figure size 432x288 with 1 Axes>"
      ]
     },
     "metadata": {
      "needs_background": "light"
     },
     "output_type": "display_data"
    },
    {
     "data": {
      "image/png": "[encoded data removed]",
      "text/plain": [
       "<Figure size 432x288 with 2 Axes>"
      ]
     },
     "metadata": {
      "needs_background": "light"
     },
     "output_type": "display_data"
    },
    {
     "name": "stdout",
     "output_type": "stream",
     "text": [
      "tensor(0.) tensor(1.) tensor(1.)\n"
     ]
    },
    {
     "data": {
      "image/png": "[encoded data removed]",
      "text/plain": [
       "<Figure size 432x288 with 1 Axes>"
      ]
     },
     "metadata": {
      "needs_background": "light"
     },
     "output_type": "display_data"
    },
    {
     "data": {
      "image/png": "[encoded data removed]",
      "text/plain": [
       "<Figure size 432x288 with 2 Axes>"
      ]
     },
     "metadata": {
      "needs_background": "light"
     },
     "output_type": "display_data"
    },
    {
     "name": "stdout",
     "output_type": "stream",
     "text": [
      "tensor(1.) tensor(1.) tensor(1.)\n"
     ]
    },
    {
     "data": {
      "image/png": "[encoded data removed]",
      "text/plain": [
       "<Figure size 432x288 with 1 Axes>"
      ]
     },
     "metadata": {
      "needs_background": "light"
     },
     "output_type": "display_data"
    },
    {
     "data": {
      "image/png": "[encoded data removed]",
      "text/plain": [
       "<Figure size 432x288 with 2 Axes>"
      ]
     },
     "metadata": {
      "needs_background": "light"
     },
     "output_type": "display_data"
    },
    {
     "name": "stdout",
     "output_type": "stream",
     "text": [
      "CPU times: user 1min 44s, sys: 715 ms, total: 1min 45s\n",
      "Wall time: 1min 45s\n"
     ]
    }
   ],
   "source": [
    "%%time\n",
    "\n",
    "data = {'iscorrect1':[], 'iscorrect2':[], 'iscorrect3':[], 'csharp':[], 'sql':[]}\n",
    "\n",
    "for k in (tensor(0.), tensor(1.)):\n",
    "    for j in (tensor(0.), tensor(1.)):\n",
    "        for i in (tensor(0.), tensor(1.)):\n",
    "            print(i,j,k)\n",
    "            \n",
    "            # remove previous\n",
    "            pyro.clear_param_store()\n",
    "\n",
    "            # Condition the model\n",
    "            cond_model = condition(skill_model, {\n",
    "                \"iscorrect1\": i,\n",
    "                \"iscorrect2\": j,\n",
    "                \"iscorrect3\": k\n",
    "            })\n",
    "\n",
    "\n",
    "#             cond_test_guide = condition(test_guide, {\n",
    "#                 \"iscorrect1\": i,\n",
    "#                 \"iscorrect2\": j,\n",
    "#                 \"iscorrect3\": k\n",
    "#             })\n",
    "\n",
    "            adam = Adam({\"lr\": 0.005, \"betas\": (0.90, 0.999)})\n",
    "            svi = SVI(model=cond_model, \n",
    "                      guide=skill_guide, \n",
    "                      optim=adam, \n",
    "                      loss=Trace_ELBO())\n",
    "\n",
    "            param_vals = []\n",
    "            losses = []\n",
    "            cs = []\n",
    "            sq = []\n",
    "            for _ in range(5000):\n",
    "                losses.append(svi.step())\n",
    "                cs.append(pyro.param(\"cs_p\").item())\n",
    "                sq.append(pyro.param(\"sq_p\").item())\n",
    "                #param_vals.append({p: param(p).item() for p in [\"cs_p\", \"sq_p\"]})\n",
    "\n",
    "            \n",
    "            # plot the parameter value\n",
    "            #pd.DataFrame(param_vals).plot(subplots=True)\n",
    "            \n",
    "            # plot losses\n",
    "            plt.plot(losses)\n",
    "            plt.title(\"ELBO {} {} {}\".format(i, j, k))\n",
    "            plt.xlabel(\"step\")\n",
    "            plt.ylabel(\"loss\")\n",
    "            plt.show()\n",
    "            \n",
    "            \n",
    "            plt.subplot(1,2,1)\n",
    "            plt.plot(cs)\n",
    "            plt.ylabel('cs_p')\n",
    "\n",
    "            plt.subplot(1,2,2)\n",
    "            plt.plot(sq)\n",
    "            plt.ylabel('sq_p')\n",
    "            plt.tight_layout()\n",
    "            plt.show()\n",
    "            \n",
    "            # what is the probabilities now?\n",
    "            tr = trace(skill_guide).get_trace()\n",
    "            \n",
    "            data['iscorrect1'].append(True if i == tensor(1.) else False)\n",
    "            data['iscorrect2'].append(True if j == tensor(1.) else False)\n",
    "            data['iscorrect3'].append(True if k == tensor(1.) else False)\n",
    "            data['csharp'].append(tr.nodes['cs_p']['value'].item())\n",
    "            data['sql'].append(tr.nodes['sq_p']['value'].item())\n",
    "\n",
    "\n",
    "df = pd.DataFrame(data)\n"
   ]
  },
  {
   "cell_type": "code",
   "execution_count": 49,
   "metadata": {},
   "outputs": [
    {
     "data": {
      "text/html": [
       "<div>\n",
       "<style scoped>\n",
       "    .dataframe tbody tr th:only-of-type {\n",
       "        vertical-align: middle;\n",
       "    }\n",
       "\n",
       "    .dataframe tbody tr th {\n",
       "        vertical-align: top;\n",
       "    }\n",
       "\n",
       "    .dataframe thead th {\n",
       "        text-align: right;\n",
       "    }\n",
       "</style>\n",
       "<table border=\"1\" class=\"dataframe\">\n",
       "  <thead>\n",
       "    <tr style=\"text-align: right;\">\n",
       "      <th></th>\n",
       "      <th>iscorrect1</th>\n",
       "      <th>iscorrect2</th>\n",
       "      <th>iscorrect3</th>\n",
       "      <th>csharp</th>\n",
       "      <th>sql</th>\n",
       "    </tr>\n",
       "  </thead>\n",
       "  <tbody>\n",
       "    <tr>\n",
       "      <th>0</th>\n",
       "      <td>False</td>\n",
       "      <td>False</td>\n",
       "      <td>False</td>\n",
       "      <td>0.100951</td>\n",
       "      <td>0.089976</td>\n",
       "    </tr>\n",
       "    <tr>\n",
       "      <th>1</th>\n",
       "      <td>True</td>\n",
       "      <td>False</td>\n",
       "      <td>False</td>\n",
       "      <td>0.808066</td>\n",
       "      <td>0.042736</td>\n",
       "    </tr>\n",
       "    <tr>\n",
       "      <th>2</th>\n",
       "      <td>False</td>\n",
       "      <td>True</td>\n",
       "      <td>False</td>\n",
       "      <td>0.035051</td>\n",
       "      <td>0.821119</td>\n",
       "    </tr>\n",
       "    <tr>\n",
       "      <th>3</th>\n",
       "      <td>True</td>\n",
       "      <td>True</td>\n",
       "      <td>False</td>\n",
       "      <td>0.576358</td>\n",
       "      <td>0.588680</td>\n",
       "    </tr>\n",
       "    <tr>\n",
       "      <th>4</th>\n",
       "      <td>False</td>\n",
       "      <td>False</td>\n",
       "      <td>True</td>\n",
       "      <td>0.135753</td>\n",
       "      <td>0.198998</td>\n",
       "    </tr>\n",
       "    <tr>\n",
       "      <th>5</th>\n",
       "      <td>True</td>\n",
       "      <td>False</td>\n",
       "      <td>True</td>\n",
       "      <td>0.868326</td>\n",
       "      <td>0.296901</td>\n",
       "    </tr>\n",
       "    <tr>\n",
       "      <th>6</th>\n",
       "      <td>False</td>\n",
       "      <td>True</td>\n",
       "      <td>True</td>\n",
       "      <td>0.332842</td>\n",
       "      <td>0.869456</td>\n",
       "    </tr>\n",
       "    <tr>\n",
       "      <th>7</th>\n",
       "      <td>True</td>\n",
       "      <td>True</td>\n",
       "      <td>True</td>\n",
       "      <td>0.929578</td>\n",
       "      <td>0.940011</td>\n",
       "    </tr>\n",
       "  </tbody>\n",
       "</table>\n",
       "</div>"
      ],
      "text/plain": [
       "   iscorrect1  iscorrect2  iscorrect3    csharp       sql\n",
       "0       False       False       False  0.100951  0.089976\n",
       "1        True       False       False  0.808066  0.042736\n",
       "2       False        True       False  0.035051  0.821119\n",
       "3        True        True       False  0.576358  0.588680\n",
       "4       False       False        True  0.135753  0.198998\n",
       "5        True       False        True  0.868326  0.296901\n",
       "6       False        True        True  0.332842  0.869456\n",
       "7        True        True        True  0.929578  0.940011"
      ]
     },
     "metadata": {},
     "output_type": "display_data"
    }
   ],
   "source": [
    "display(df)"
   ]
  },
  {
   "cell_type": "markdown",
   "metadata": {},
   "source": [
    "Looking at the optimization traces there is room for improvement. The values for some of the latent variables do not stabilize before the process is over. Even so, the results nicely agree with the ones in Table 2.4 on page 67 of the book."
   ]
  },
  {
   "cell_type": "markdown",
   "metadata": {},
   "source": [
    "## Moving to real data\n",
    "#### Pages 78 to y\n",
    "\n",
    "**Generalizing the model:** The dataset available for this problem comprises 48 questions answered by 22 individuals. In order to analyze this data we need to generalize the model, as the current one only works for one person and three questions. We do this using plates.\n",
    "\n",
    "**Factor graph:** We use one plate across the skills and another across questions. This makes the model generalizable to any number of skills and questions. In addition we need a subarray factor that connects **skillsNeeded** with **relevantSkills**. This array tells which skills are needed for which questions. The **skillsNeeded** array has to be provided and each element in this contains a separate array of integers specifying the skills needed for that question.\n",
    "\n",
    "<img src=\"images/chapter_2_plate.png\" width=\"400\"/>\n",
    "\n"
   ]
  },
  {
   "cell_type": "markdown",
   "metadata": {},
   "source": [
    "**First load the data**"
   ]
  },
  {
   "cell_type": "code",
   "execution_count": 14,
   "metadata": {},
   "outputs": [
    {
     "data": {
      "text/html": [
       "<div>\n",
       "<style scoped>\n",
       "    .dataframe tbody tr th:only-of-type {\n",
       "        vertical-align: middle;\n",
       "    }\n",
       "\n",
       "    .dataframe tbody tr th {\n",
       "        vertical-align: top;\n",
       "    }\n",
       "\n",
       "    .dataframe thead th {\n",
       "        text-align: right;\n",
       "    }\n",
       "</style>\n",
       "<table border=\"1\" class=\"dataframe\">\n",
       "  <thead>\n",
       "    <tr style=\"text-align: right;\">\n",
       "      <th></th>\n",
       "      <th>0</th>\n",
       "      <th>1</th>\n",
       "      <th>2</th>\n",
       "      <th>3</th>\n",
       "      <th>4</th>\n",
       "      <th>5</th>\n",
       "      <th>6</th>\n",
       "    </tr>\n",
       "  </thead>\n",
       "  <tbody>\n",
       "    <tr>\n",
       "      <th>0</th>\n",
       "      <td>True</td>\n",
       "      <td>False</td>\n",
       "      <td>False</td>\n",
       "      <td>False</td>\n",
       "      <td>False</td>\n",
       "      <td>False</td>\n",
       "      <td>False</td>\n",
       "    </tr>\n",
       "    <tr>\n",
       "      <th>1</th>\n",
       "      <td>True</td>\n",
       "      <td>False</td>\n",
       "      <td>False</td>\n",
       "      <td>False</td>\n",
       "      <td>False</td>\n",
       "      <td>False</td>\n",
       "      <td>False</td>\n",
       "    </tr>\n",
       "    <tr>\n",
       "      <th>2</th>\n",
       "      <td>True</td>\n",
       "      <td>False</td>\n",
       "      <td>False</td>\n",
       "      <td>False</td>\n",
       "      <td>False</td>\n",
       "      <td>False</td>\n",
       "      <td>True</td>\n",
       "    </tr>\n",
       "    <tr>\n",
       "      <th>3</th>\n",
       "      <td>True</td>\n",
       "      <td>False</td>\n",
       "      <td>False</td>\n",
       "      <td>False</td>\n",
       "      <td>False</td>\n",
       "      <td>False</td>\n",
       "      <td>True</td>\n",
       "    </tr>\n",
       "    <tr>\n",
       "      <th>4</th>\n",
       "      <td>True</td>\n",
       "      <td>False</td>\n",
       "      <td>False</td>\n",
       "      <td>False</td>\n",
       "      <td>False</td>\n",
       "      <td>False</td>\n",
       "      <td>False</td>\n",
       "    </tr>\n",
       "  </tbody>\n",
       "</table>\n",
       "</div>"
      ],
      "text/plain": [
       "      0      1      2      3      4      5      6\n",
       "0  True  False  False  False  False  False  False\n",
       "1  True  False  False  False  False  False  False\n",
       "2  True  False  False  False  False  False   True\n",
       "3  True  False  False  False  False  False   True\n",
       "4  True  False  False  False  False  False  False"
      ]
     },
     "metadata": {},
     "output_type": "display_data"
    },
    {
     "data": {
      "text/plain": [
       "(48, 7)"
      ]
     },
     "metadata": {},
     "output_type": "display_data"
    },
    {
     "data": {
      "text/plain": [
       "array([[1., 0., 0., ..., 1., 1., 1.],\n",
       "       [1., 1., 1., ..., 1., 1., 1.],\n",
       "       [1., 1., 0., ..., 1., 1., 0.],\n",
       "       ...,\n",
       "       [1., 0., 0., ..., 1., 1., 1.],\n",
       "       [1., 0., 0., ..., 1., 1., 1.],\n",
       "       [1., 1., 1., ..., 1., 1., 1.]])"
      ]
     },
     "metadata": {},
     "output_type": "display_data"
    },
    {
     "data": {
      "text/plain": [
       "(48, 22)"
      ]
     },
     "metadata": {},
     "output_type": "display_data"
    }
   ],
   "source": [
    "# A mask indicating which skills are needed for which questions\n",
    "skills = pd.read_csv(join('ch2', 'SkillsQuestionsMask.csv'), sep=',', header=None)\n",
    "skills = skills\n",
    "\n",
    "display(skills.head())\n",
    "display(skills.shape)\n",
    "\n",
    "\n",
    "# For each of the individuals data which indicates whether they answered correct or not\n",
    "questions = pd.read_csv(join('ch2', 'IsCorrect.csv'), sep=',', header=None).to_numpy().astype(float)\n",
    "\n",
    "display(questions)\n",
    "display(questions.shape)"
   ]
  },
  {
   "cell_type": "markdown",
   "metadata": {},
   "source": [
    "#### Make the plot from Figure 2.14\n",
    "Light yellow indicates True and black is False. In the first figure this indicates whether a skill is needed for the question. In the second plot it indicates whether peoples responses were correct or not."
   ]
  },
  {
   "cell_type": "code",
   "execution_count": 15,
   "metadata": {},
   "outputs": [
    {
     "data": {
      "text/plain": [
       "(48, 7)"
      ]
     },
     "metadata": {},
     "output_type": "display_data"
    },
    {
     "data": {
      "text/plain": [
       "(48, 22)"
      ]
     },
     "metadata": {},
     "output_type": "display_data"
    },
    {
     "data": {
      "image/png": "[encoded data removed]",
      "text/plain": [
       "<Figure size 432x1440 with 1 Axes>"
      ]
     },
     "metadata": {
      "needs_background": "light"
     },
     "output_type": "display_data"
    },
    {
     "data": {
      "image/png": "[encoded data removed]",
      "text/plain": [
       "<Figure size 432x216 with 1 Axes>"
      ]
     },
     "metadata": {
      "needs_background": "light"
     },
     "output_type": "display_data"
    }
   ],
   "source": [
    "# Skills needed for questions\n",
    "fig, ax2 = plt.subplots(figsize=(6, 20))\n",
    "img = ax2.imshow(skills.transpose(),\n",
    "                 interpolation='nearest',\n",
    "                 cmap = 'magma',\n",
    "                vmin=0,\n",
    "                vmax=1) \n",
    "plt.axis('off')\n",
    "plt.title(\"Skills needed for questions\")\n",
    "fig.tight_layout()\n",
    "\n",
    "\n",
    "# Peoples answers, correct or not\n",
    "fig, ax1 = plt.subplots(figsize=(6, 3))\n",
    "img = ax1.imshow(questions.transpose(),\n",
    "                 interpolation='nearest',\n",
    "                 cmap = 'magma',\n",
    "                vmin=0,\n",
    "                vmax=1) \n",
    "plt.axis('off')\n",
    "plt.title('Peoples answers, correct or not')\n",
    "fig.tight_layout()\n",
    "\n",
    "\n",
    "display(skills.shape)\n",
    "display(questions.shape)"
   ]
  },
  {
   "cell_type": "markdown",
   "metadata": {},
   "source": [
    "The **skillsNeeded** needs to be an array of indexes."
   ]
  },
  {
   "cell_type": "code",
   "execution_count": 7,
   "metadata": {},
   "outputs": [
    {
     "data": {
      "text/plain": [
       "[[0, 1, 2, 3, 4, 5, 6, 23, 24, 25],\n",
       " [7, 8, 9, 10, 11, 12, 13, 14, 15, 16, 17, 35],\n",
       " [18, 19, 20, 21, 22],\n",
       " [26, 27, 28, 29, 30, 31, 32, 33],\n",
       " [34, 35, 36, 37, 38, 39],\n",
       " [40, 41, 42, 43, 44, 45, 46, 47],\n",
       " [2, 3, 6, 7, 8, 11, 12, 13, 15, 16]]"
      ]
     },
     "execution_count": 7,
     "metadata": {},
     "output_type": "execute_result"
    }
   ],
   "source": [
    "# convert skills needed to a list of indexes\n",
    "skills_needed_list = [skills.index[skills[s] == True].tolist() for s in skills.columns]\n",
    "skills_needed_list"
   ]
  },
  {
   "cell_type": "code",
   "execution_count": 16,
   "metadata": {},
   "outputs": [
    {
     "data": {
      "text/plain": [
       "[[0],\n",
       " [0],\n",
       " [0, 6],\n",
       " [0, 6],\n",
       " [0],\n",
       " [0],\n",
       " [0, 6],\n",
       " [1, 6],\n",
       " [1, 6],\n",
       " [1],\n",
       " [1],\n",
       " [1, 6],\n",
       " [1, 6],\n",
       " [1, 6],\n",
       " [1],\n",
       " [1, 6],\n",
       " [1, 6],\n",
       " [1],\n",
       " [2],\n",
       " [2],\n",
       " [2],\n",
       " [2],\n",
       " [2],\n",
       " [0],\n",
       " [0],\n",
       " [0],\n",
       " [3],\n",
       " [3],\n",
       " [3],\n",
       " [3],\n",
       " [3],\n",
       " [3],\n",
       " [3],\n",
       " [3],\n",
       " [4],\n",
       " [1, 4],\n",
       " [4],\n",
       " [4],\n",
       " [4],\n",
       " [4],\n",
       " [5],\n",
       " [5],\n",
       " [5],\n",
       " [5],\n",
       " [5],\n",
       " [5],\n",
       " [5],\n",
       " [5]]"
      ]
     },
     "execution_count": 16,
     "metadata": {},
     "output_type": "execute_result"
    }
   ],
   "source": [
    "\n",
    "skills_key = pd.read_csv('http://www.mbmlbook.com/Downloads/LearningSkills_Real_Data_Experiments-Original-Inputs-Quiz-SkillsQuestionsMask.csv', header=None)\n",
    "skills_needed = []\n",
    "for index, row in skills_key.iterrows():\n",
    "    skills_needed.append([i for i,x in enumerate(row) if x])\n",
    "skills_needed"
   ]
  },
  {
   "cell_type": "code",
   "execution_count": 174,
   "metadata": {},
   "outputs": [
    {
     "name": "stderr",
     "output_type": "stream",
     "text": [
      "Sample: 100%|██████████| 110/110 [07:13,  3.94s/it, step size=4.50e-01, acc. prob=0.819]\n"
     ]
    }
   ],
   "source": [
    "def skill_model_plate(data):\n",
    "    num_questions = 48 #data.shape[1]\n",
    "    num_people = 22 #data.shape[0]\n",
    "    num_skills = 7\n",
    "\n",
    "    with pyro.plate(\"participants\", num_people) as p:\n",
    "        \n",
    "        # do the people have the 7 skills?\n",
    "        skills = []\n",
    "        for i in pyro.plate(\"skills\", num_skills):\n",
    "\n",
    "            true_skills = pyro.sample('true_skills_{}'.format(i),\n",
    "                                      dist.Beta(0.1, 0.1))\n",
    "            \n",
    "            skills.append(pyro.sample(\"skill_{}\".format(i),\n",
    "                                     dist.Bernoulli(true_skills),\n",
    "                                     infer={\"enumerate\": \"parallel\"}))\n",
    "\n",
    "        for q in pyro.plate(\"questions\", num_questions):\n",
    "            \n",
    "            # generate True/False list indicating, for each question, \n",
    "            # whether a person has the skills needed  \n",
    "            has_skills = reduce(operator.mul,\n",
    "                    [skills[i] for i in skills_needed[q]]).float()\n",
    "            \n",
    "            prob_correct = has_skills * 0.9 + (1 - has_skills) * 0.2\n",
    "\n",
    "            pyro.sample(\"isCorrect_p{}_q{}\".format(p, q),\n",
    "                        dist.Bernoulli(prob_correct), obs=data[q])\n",
    "\n",
    "\n",
    "# Clear named parameters so that runs don't interfere\n",
    "pyro.clear_param_store()\n",
    "\n",
    "\n",
    "my_kernel = NUTS(skill_model_plate)\n",
    "\n",
    "\n",
    "my_mcmc = MCMC(my_kernel,\n",
    "               num_samples=100,\n",
    "               warmup_steps=10)\n",
    "\n",
    "my_mcmc.run(tensor(questions))\n",
    "\n",
    "# store results for later plotting\n",
    "results = my_mcmc.get_samples()"
   ]
  },
  {
   "cell_type": "code",
   "execution_count": 175,
   "metadata": {},
   "outputs": [
    {
     "data": {
      "text/plain": [
       "{'true_skills_0': tensor([[9.9843e-01, 4.1461e-01, 6.2248e-03,  ..., 1.0000e+00, 9.5660e-01,\n",
       "          1.0000e+00],\n",
       "         [9.9981e-01, 9.9996e-01, 2.0802e-01,  ..., 1.0000e+00, 9.7034e-01,\n",
       "          1.0000e+00],\n",
       "         [9.7533e-01, 8.2784e-01, 2.9961e-02,  ..., 1.0000e+00, 9.9985e-01,\n",
       "          1.0000e+00],\n",
       "         ...,\n",
       "         [1.0000e+00, 1.0000e+00, 1.3781e-03,  ..., 1.0000e+00, 9.9995e-01,\n",
       "          9.4091e-01],\n",
       "         [9.7540e-01, 9.9998e-01, 2.4207e-06,  ..., 1.0000e+00, 9.9300e-01,\n",
       "          8.4985e-01],\n",
       "         [9.6597e-01, 1.0000e+00, 1.1009e-05,  ..., 1.0000e+00, 3.6172e-01,\n",
       "          9.9832e-01]], dtype=torch.float64),\n",
       " 'true_skills_1': tensor([[1.0000e+00, 9.4987e-01, 8.4698e-06,  ..., 9.9999e-01, 9.4962e-01,\n",
       "          1.0000e+00],\n",
       "         [9.9993e-01, 9.9914e-01, 1.0495e-03,  ..., 4.4895e-01, 1.0000e+00,\n",
       "          1.0919e-01],\n",
       "         [1.2340e-01, 2.6505e-01, 9.2425e-06,  ..., 1.0000e+00, 9.9832e-01,\n",
       "          1.0000e+00],\n",
       "         ...,\n",
       "         [6.8945e-02, 1.0000e+00, 6.2509e-02,  ..., 9.9645e-01, 8.9657e-01,\n",
       "          4.9691e-01],\n",
       "         [1.0000e+00, 9.9999e-01, 1.5708e-11,  ..., 9.9716e-01, 8.9681e-01,\n",
       "          1.0000e+00],\n",
       "         [1.0000e+00, 9.9997e-01, 8.3993e-10,  ..., 9.8181e-01, 8.2273e-01,\n",
       "          9.9992e-01]], dtype=torch.float64),\n",
       " 'true_skills_2': tensor([[1.0000e+00, 4.3287e-10, 1.6845e-06,  ..., 7.8890e-01, 9.9969e-01,\n",
       "          3.6100e-01],\n",
       "         [1.0000e+00, 9.8682e-01, 6.0458e-06,  ..., 9.8267e-01, 9.3974e-01,\n",
       "          9.6974e-01],\n",
       "         [1.0000e+00, 4.6483e-01, 3.7530e-07,  ..., 6.4003e-01, 9.9754e-01,\n",
       "          9.9998e-01],\n",
       "         ...,\n",
       "         [9.2943e-01, 9.5989e-01, 1.2026e-05,  ..., 9.9999e-01, 9.4715e-01,\n",
       "          9.1320e-01],\n",
       "         [9.9996e-01, 3.5573e-01, 2.4736e-05,  ..., 9.9206e-01, 9.7078e-01,\n",
       "          1.0000e+00],\n",
       "         [7.7635e-01, 4.6702e-01, 1.4978e-08,  ..., 7.3866e-01, 8.5044e-01,\n",
       "          1.0000e+00]], dtype=torch.float64),\n",
       " 'true_skills_3': tensor([[0.9875, 0.9731, 0.9997,  ..., 1.0000, 0.9964, 0.9226],\n",
       "         [0.9992, 0.9925, 1.0000,  ..., 0.8813, 0.9838, 0.8511],\n",
       "         [1.0000, 0.4850, 1.0000,  ..., 0.9112, 0.9998, 1.0000],\n",
       "         ...,\n",
       "         [0.3449, 0.8674, 0.7868,  ..., 1.0000, 0.9791, 1.0000],\n",
       "         [1.0000, 1.0000, 0.8682,  ..., 1.0000, 1.0000, 0.2064],\n",
       "         [1.0000, 0.9998, 1.0000,  ..., 1.0000, 1.0000, 0.9793]],\n",
       "        dtype=torch.float64),\n",
       " 'true_skills_4': tensor([[9.9989e-01, 1.0292e-02, 7.8919e-01,  ..., 1.0000e+00, 9.9981e-01,\n",
       "          1.0000e+00],\n",
       "         [9.7476e-01, 1.3568e-03, 6.9180e-01,  ..., 6.5593e-01, 4.8626e-01,\n",
       "          1.0000e+00],\n",
       "         [7.0626e-01, 2.6209e-06, 4.4957e-04,  ..., 9.7783e-01, 9.9335e-01,\n",
       "          1.0000e+00],\n",
       "         ...,\n",
       "         [9.9989e-01, 5.2604e-02, 9.9998e-01,  ..., 9.8334e-01, 9.8941e-01,\n",
       "          2.5586e-02],\n",
       "         [9.9717e-01, 3.9081e-03, 4.5340e-04,  ..., 9.9971e-01, 9.9867e-01,\n",
       "          1.0000e+00],\n",
       "         [9.9998e-01, 3.7472e-03, 4.7689e-05,  ..., 9.2543e-01, 9.9959e-01,\n",
       "          1.0000e+00]], dtype=torch.float64),\n",
       " 'true_skills_5': tensor([[0.8147, 0.1808, 0.9881,  ..., 0.9647, 0.4093, 0.9971],\n",
       "         [0.9982, 0.0544, 0.9961,  ..., 0.9999, 1.0000, 0.6383],\n",
       "         [0.7897, 0.0116, 1.0000,  ..., 1.0000, 0.9953, 0.9822],\n",
       "         ...,\n",
       "         [0.9638, 0.0012, 0.5784,  ..., 0.8290, 0.9667, 1.0000],\n",
       "         [1.0000, 0.0037, 0.9522,  ..., 0.8219, 0.9522, 1.0000],\n",
       "         [1.0000, 0.4480, 0.3230,  ..., 0.7400, 0.2242, 1.0000]],\n",
       "        dtype=torch.float64),\n",
       " 'true_skills_6': tensor([[9.9981e-01, 1.0000e+00, 1.1249e-02,  ..., 6.7737e-01, 9.9999e-01,\n",
       "          6.1845e-01],\n",
       "         [9.9996e-01, 8.8004e-01, 9.9987e-01,  ..., 9.9941e-01, 9.8811e-01,\n",
       "          9.9824e-01],\n",
       "         [1.0000e+00, 9.2395e-01, 2.0277e-03,  ..., 9.9383e-01, 9.9997e-01,\n",
       "          9.7242e-01],\n",
       "         ...,\n",
       "         [9.0450e-01, 9.9770e-01, 9.2558e-04,  ..., 9.9753e-01, 7.0003e-01,\n",
       "          9.9995e-01],\n",
       "         [1.0000e+00, 1.0000e+00, 2.1314e-17,  ..., 9.9873e-01, 1.0000e+00,\n",
       "          1.0000e+00],\n",
       "         [1.0000e+00, 1.0000e+00, 2.2422e-18,  ..., 9.9972e-01, 9.9908e-01,\n",
       "          1.0000e+00]], dtype=torch.float64)}"
      ]
     },
     "execution_count": 175,
     "metadata": {},
     "output_type": "execute_result"
    }
   ],
   "source": [
    "results"
   ]
  },
  {
   "cell_type": "markdown",
   "metadata": {},
   "source": [
    "### Plot the results"
   ]
  },
  {
   "cell_type": "code",
   "execution_count": 176,
   "metadata": {},
   "outputs": [
    {
     "name": "stderr",
     "output_type": "stream",
     "text": [
      "/home/martin/miniconda3/envs/pt/lib/python3.7/site-packages/ipykernel_launcher.py:22: UserWarning: Matplotlib is currently using module://ipykernel.pylab.backend_inline, which is a non-GUI backend, so cannot show the figure.\n"
     ]
    },
    {
     "data": {
      "image/png": "[encoded data removed]",
      "text/plain": [
       "<Figure size 432x216 with 2 Axes>"
      ]
     },
     "metadata": {
      "needs_background": "light"
     },
     "output_type": "display_data"
    }
   ],
   "source": [
    "res_mean = []\n",
    "for i in range(0, 7):\n",
    "    res_mean.append(results['true_skills_{}'.format(i)].numpy().mean(axis=0))\n",
    "    \n",
    "res_mean = np.array(res_mean)  \n",
    "    \n",
    "fig, ax1 = plt.subplots(figsize=(6, 3))\n",
    "img = ax1.imshow(res_mean.transpose(),\n",
    "                 interpolation='nearest',\n",
    "                 cmap = 'magma',\n",
    "                vmin=0,\n",
    "                vmax=1)\n",
    "\n",
    "plt.xlabel('Skills')\n",
    "plt.ylabel('People')\n",
    "\n",
    "plt.xticks([])\n",
    "plt.yticks([])\n",
    "\n",
    "fig.colorbar(img)\n",
    "\n",
    "fig.show()\n"
   ]
  },
  {
   "cell_type": "code",
   "execution_count": 133,
   "metadata": {},
   "outputs": [],
   "source": []
  },
  {
   "cell_type": "markdown",
   "metadata": {},
   "source": [
    "## 2.6 Learning the guess probabilities"
   ]
  },
  {
   "cell_type": "markdown",
   "metadata": {},
   "source": [
    "**Build the model using plates**\n",
    "Was very tricky to make things work with the subarray. Got guidance from https://forum.pyro.ai/t/model-based-machine-learning-book-chapter-2-skills-example-in-pyro-tensor-dimension-issue/464/3."
   ]
  },
  {
   "cell_type": "code",
   "execution_count": 161,
   "metadata": {},
   "outputs": [
    {
     "name": "stderr",
     "output_type": "stream",
     "text": [
      "Sample: 100%|██████████| 110/110 [00:46,  2.39it/s, step size=3.98e-01, acc. prob=0.723]\n"
     ]
    }
   ],
   "source": [
    "def guess_prob_model(data):\n",
    "    num_questions = 48 #data.shape[1]\n",
    "    num_people = 22 #data.shape[0]\n",
    "    \n",
    "    prob_mistake = 0.1\n",
    "    prob_guess = 0.2\n",
    "    \n",
    "    alpha0 = torch.ones(48) * 2.5\n",
    "    beta0 = torch.ones(48) * 7.5\n",
    "\n",
    "    guess_probs = pyro.sample('guess_prob',\n",
    "                              dist.Beta(alpha0, beta0).independent(1))\n",
    "\n",
    "    with pyro.plate(\"participants\", num_people) as p:\n",
    "\n",
    "        # do the people have the 7 skills?\n",
    "        skills = []\n",
    "        for i in pyro.plate(\"skills\", 7):\n",
    "            skills.append(pyro.sample(\"skill_{}\".format(i),\n",
    "                                     dist.Bernoulli(0.5),\n",
    "                                     infer={\"enumerate\": \"parallel\"}))\n",
    "\n",
    "            \n",
    "        for q in pyro.plate(\"questions\", num_questions):\n",
    "            has_skills = reduce(operator.mul,\n",
    "                                [skills[i] for i in skills_needed[q]]).float()\n",
    "            \n",
    "            prob_correct = has_skills * (1 - prob_mistake) + (1 - has_skills) * guess_probs[q]\n",
    "\n",
    "            pyro.sample(\"isCorrect{}\".format(q),\n",
    "                        dist.Bernoulli(prob_correct), obs=data[q])\n",
    "\n",
    "\n",
    "# Clear named parameters so that runs don't interfere\n",
    "pyro.clear_param_store()\n",
    "\n",
    "\n",
    "my_kernel = NUTS(guess_prob_model)\n",
    "\n",
    "\n",
    "my_mcmc = MCMC(my_kernel,\n",
    "               num_samples=100,\n",
    "               warmup_steps=10)\n",
    "\n",
    "my_mcmc.run(tensor(questions))\n",
    "\n",
    "# store results for later plotting\n",
    "results = my_mcmc.get_samples()"
   ]
  },
  {
   "cell_type": "code",
   "execution_count": 162,
   "metadata": {},
   "outputs": [
    {
     "data": {
      "image/png": "[encoded data removed]",
      "text/plain": [
       "<Figure size 648x216 with 1 Axes>"
      ]
     },
     "metadata": {
      "needs_background": "light"
     },
     "output_type": "display_data"
    }
   ],
   "source": [
    "plt.figure(figsize=(9,3))\n",
    "plt.bar(x=list(range(1, results['guess_prob'].shape[1]+1)), \n",
    "        height=results['guess_prob'].mean(axis=0),\n",
    "        yerr=results['guess_prob'].std(axis=0))\n",
    "plt.xlabel('Question number')\n",
    "plt.ylabel('Mean guess prob.')\n",
    "plt.xlim([0.5, results['guess_prob'].shape[1]+1])\n",
    "plt.xticks(np.arange(1, results['guess_prob'].shape[1]+1, step=2))\n",
    "plt.title('Guess probabilities')\n",
    "plt.show()"
   ]
  },
  {
   "cell_type": "code",
   "execution_count": null,
   "metadata": {},
   "outputs": [],
   "source": []
  },
  {
   "cell_type": "code",
   "execution_count": null,
   "metadata": {},
   "outputs": [],
   "source": []
  },
  {
   "cell_type": "code",
   "execution_count": null,
   "metadata": {},
   "outputs": [],
   "source": []
  },
  {
   "cell_type": "code",
   "execution_count": 176,
   "metadata": {},
   "outputs": [
    {
     "data": {
      "text/plain": [
       "(5,)"
      ]
     },
     "metadata": {},
     "output_type": "display_data"
    },
    {
     "data": {
      "text/plain": [
       "(9, 1)"
      ]
     },
     "metadata": {},
     "output_type": "display_data"
    },
    {
     "data": {
      "text/plain": [
       "(9, 5)"
      ]
     },
     "metadata": {},
     "output_type": "display_data"
    },
    {
     "name": "stderr",
     "output_type": "stream",
     "text": [
      "Sample: 100%|██████████| 110/110 [00:04, 24.50it/s, step size=6.05e-02, acc. prob=0.943]\n"
     ]
    }
   ],
   "source": [
    "def disentanglement_model(X, y):\n",
    "    num_proteins = X.shape[0]\n",
    "    num_mutations = X.shape[1]\n",
    "\n",
    "    \n",
    "    mu0 = torch.zeros(num_mutations)\n",
    "    sigma0 = torch.ones(num_mutations) * 2\n",
    "\n",
    "    stability_contribs = pyro.sample('stability_contrib',\n",
    "                              dist.Normal(mu0, sigma0).independent(1))\n",
    "\n",
    "\n",
    "    for p in pyro.plate(\"proteins\", num_proteins):\n",
    "\n",
    "        # which mutations does the protein have?\n",
    "        contrib_sum = 0\n",
    "        for i in range(num_mutations):\n",
    "            if X[p][i] == 1:\n",
    "                contrib_sum += stability_contribs[i]\n",
    "        \n",
    "        with pyro.plate('observed_data'):\n",
    "            pyro.sample('obs_{}'.format(p),\n",
    "                        dist.Normal(contrib_sum, 0.2), obs=y[p])\n",
    "\n",
    "\n",
    "def disentanglement_model_2(X, y):\n",
    "    num_proteins = X.shape[0]\n",
    "    num_mutations = X.shape[1]\n",
    "\n",
    "    \n",
    "    mu0 = torch.zeros(num_mutations)\n",
    "    sigma0 = torch.ones(num_mutations) * 2\n",
    "\n",
    "    stability_contribs = pyro.sample('stability_contrib',\n",
    "                              dist.Normal(mu0, sigma0).independent(1))\n",
    "\n",
    "    # use the one-hot encoding to create a boolean mask\n",
    "    bool_mask = tensor(X, dtype=bool)\n",
    "        \n",
    "    for p in pyro.plate(\"proteins\", num_proteins):\n",
    "\n",
    "        contrib_sum = torch.sum(stability_contribs[bool_mask[p]] * X[p][bool_mask[p]].reshape(-1, 1), axis=1)\n",
    "        \n",
    "        with pyro.plate('observed_data'):\n",
    "            pyro.sample('obs_{}'.format(p),\n",
    "                        dist.Normal(contrib_sum, 0.2), obs=y[p])\n",
    "\n",
    "\n",
    "\n",
    "\n",
    "##\n",
    "mutations = np.array(['M1S', 'K2R', 'N5P', 'Q7P', 'M55I'])\n",
    "X = np.array([[0, 0, 0, 0, 0],\n",
    "             [1, 0, 1, 1, 1],\n",
    "             [0, 1, 0, 0, 0],\n",
    "             [0, 0, 1, 1, 0],\n",
    "             [1, 0, 0, 0, 1],\n",
    "             [0, 0, 1, 0, 1],\n",
    "             [1, 1, 0, 0, 0],\n",
    "             [0, 0, 0, 1, 0],\n",
    "             [0, 0, 0, 0, 1]])\n",
    "\n",
    "# X = np.array([[0, 0, 0, 0, 0],\n",
    "#              [1, 0, 1, 1, 1],\n",
    "#              [0, 1, 0, 0, 0],\n",
    "#              [0, 0, 1, 1, 0],\n",
    "#              [1, 0, 0, 0, 1]])\n",
    "\n",
    "true_hidden_contributions = np.array([1.0, 2.0, 3.0, 4.0, -2.0])\n",
    "y = np.sum(true_hidden_contributions * X, axis=1).reshape(-1, 1)\n",
    "     \n",
    "display(mutations.shape)\n",
    "display(y.shape)\n",
    "display(X.shape)\n",
    "    \n",
    "# Clear named parameters so that runs don't interfere\n",
    "pyro.clear_param_store()\n",
    "\n",
    "\n",
    "my_kernel = NUTS(disentanglement_model)\n",
    "\n",
    "\n",
    "my_mcmc = MCMC(my_kernel,\n",
    "               num_samples=100,\n",
    "               warmup_steps=10)\n",
    "\n",
    "my_mcmc.run(tensor(X), tensor(y))\n",
    "\n",
    "# store results for later plotting\n",
    "results = my_mcmc.get_samples()"
   ]
  },
  {
   "cell_type": "code",
   "execution_count": 177,
   "metadata": {},
   "outputs": [
    {
     "data": {
      "image/png": "[encoded data removed]",
      "text/plain": [
       "<Figure size 432x288 with 1 Axes>"
      ]
     },
     "metadata": {
      "needs_background": "light"
     },
     "output_type": "display_data"
    }
   ],
   "source": [
    "p = plt.boxplot(results['stability_contrib'].T)"
   ]
  },
  {
   "cell_type": "code",
   "execution_count": 175,
   "metadata": {},
   "outputs": [
    {
     "data": {
      "image/png": "[encoded data removed]",
      "text/plain": [
       "<Figure size 432x288 with 1 Axes>"
      ]
     },
     "metadata": {
      "needs_background": "light"
     },
     "output_type": "display_data"
    }
   ],
   "source": [
    "p = plt.boxplot(results['stability_contrib'].T)"
   ]
  },
  {
   "cell_type": "code",
   "execution_count": 167,
   "metadata": {},
   "outputs": [
    {
     "data": {
      "text/plain": [
       "([<matplotlib.axis.XTick at 0x7f64d8c84510>,\n",
       "  <matplotlib.axis.XTick at 0x7f64d3f0a950>,\n",
       "  <matplotlib.axis.XTick at 0x7f64d3f0a690>,\n",
       "  <matplotlib.axis.XTick at 0x7f64d8cb5dd0>,\n",
       "  <matplotlib.axis.XTick at 0x7f64d8c67a90>],\n",
       " [Text(1, 0, 'M1S'),\n",
       "  Text(2, 0, 'K2R'),\n",
       "  Text(3, 0, 'N5P'),\n",
       "  Text(4, 0, 'Q7P'),\n",
       "  Text(5, 0, 'M55I')])"
      ]
     },
     "execution_count": 167,
     "metadata": {},
     "output_type": "execute_result"
    },
    {
     "data": {
      "image/png": "[encoded data removed]",
      "text/plain": [
       "<Figure size 432x216 with 1 Axes>"
      ]
     },
     "metadata": {
      "needs_background": "light"
     },
     "output_type": "display_data"
    }
   ],
   "source": [
    "fig, ax = plt.subplots(figsize=(6,3))\n",
    "\n",
    "p = ax.violinplot(results['stability_contrib'].T, showmeans=True, showextrema=True)\n",
    "plt.xticks(np.arange(1, len(mutations)+1), mutations)\n",
    "# ax.plot([0, 1], [0, 0], transform=ax.transAxes)"
   ]
  },
  {
   "cell_type": "code",
   "execution_count": null,
   "metadata": {},
   "outputs": [],
   "source": []
  },
  {
   "cell_type": "markdown",
   "metadata": {},
   "source": [
    "**Load data containing each persons self-assessment of their skills as well as the answer they give for each question**"
   ]
  },
  {
   "cell_type": "code",
   "execution_count": 57,
   "metadata": {},
   "outputs": [
    {
     "data": {
      "text/html": [
       "<div>\n",
       "<style scoped>\n",
       "    .dataframe tbody tr th:only-of-type {\n",
       "        vertical-align: middle;\n",
       "    }\n",
       "\n",
       "    .dataframe tbody tr th {\n",
       "        vertical-align: top;\n",
       "    }\n",
       "\n",
       "    .dataframe thead th {\n",
       "        text-align: right;\n",
       "    }\n",
       "</style>\n",
       "<table border=\"1\" class=\"dataframe\">\n",
       "  <thead>\n",
       "    <tr style=\"text-align: right;\">\n",
       "      <th></th>\n",
       "      <th>S1</th>\n",
       "      <th>S2</th>\n",
       "      <th>S3</th>\n",
       "      <th>S4</th>\n",
       "      <th>S5</th>\n",
       "      <th>S6</th>\n",
       "      <th>S7</th>\n",
       "      <th>Q1</th>\n",
       "      <th>Q2</th>\n",
       "      <th>Q3</th>\n",
       "      <th>...</th>\n",
       "      <th>Q39</th>\n",
       "      <th>Q40</th>\n",
       "      <th>Q41</th>\n",
       "      <th>Q42</th>\n",
       "      <th>Q43</th>\n",
       "      <th>Q44</th>\n",
       "      <th>Q45</th>\n",
       "      <th>Q46</th>\n",
       "      <th>Q47</th>\n",
       "      <th>Q48</th>\n",
       "    </tr>\n",
       "    <tr>\n",
       "      <th>#</th>\n",
       "      <th></th>\n",
       "      <th></th>\n",
       "      <th></th>\n",
       "      <th></th>\n",
       "      <th></th>\n",
       "      <th></th>\n",
       "      <th></th>\n",
       "      <th></th>\n",
       "      <th></th>\n",
       "      <th></th>\n",
       "      <th></th>\n",
       "      <th></th>\n",
       "      <th></th>\n",
       "      <th></th>\n",
       "      <th></th>\n",
       "      <th></th>\n",
       "      <th></th>\n",
       "      <th></th>\n",
       "      <th></th>\n",
       "      <th></th>\n",
       "      <th></th>\n",
       "    </tr>\n",
       "  </thead>\n",
       "  <tbody>\n",
       "    <tr>\n",
       "      <th>P1</th>\n",
       "      <td>True</td>\n",
       "      <td>True</td>\n",
       "      <td>True</td>\n",
       "      <td>True</td>\n",
       "      <td>False</td>\n",
       "      <td>True</td>\n",
       "      <td>True</td>\n",
       "      <td>2</td>\n",
       "      <td>4</td>\n",
       "      <td>3</td>\n",
       "      <td>...</td>\n",
       "      <td>2</td>\n",
       "      <td>1</td>\n",
       "      <td>5</td>\n",
       "      <td>4</td>\n",
       "      <td>2</td>\n",
       "      <td>5</td>\n",
       "      <td>2</td>\n",
       "      <td>2</td>\n",
       "      <td>2</td>\n",
       "      <td>1</td>\n",
       "    </tr>\n",
       "    <tr>\n",
       "      <th>P2</th>\n",
       "      <td>True</td>\n",
       "      <td>True</td>\n",
       "      <td>True</td>\n",
       "      <td>True</td>\n",
       "      <td>False</td>\n",
       "      <td>False</td>\n",
       "      <td>True</td>\n",
       "      <td>1</td>\n",
       "      <td>4</td>\n",
       "      <td>3</td>\n",
       "      <td>...</td>\n",
       "      <td>5</td>\n",
       "      <td>1</td>\n",
       "      <td>1</td>\n",
       "      <td>4</td>\n",
       "      <td>3</td>\n",
       "      <td>3</td>\n",
       "      <td>4</td>\n",
       "      <td>4</td>\n",
       "      <td>3</td>\n",
       "      <td>1</td>\n",
       "    </tr>\n",
       "    <tr>\n",
       "      <th>P3</th>\n",
       "      <td>False</td>\n",
       "      <td>False</td>\n",
       "      <td>False</td>\n",
       "      <td>True</td>\n",
       "      <td>False</td>\n",
       "      <td>True</td>\n",
       "      <td>False</td>\n",
       "      <td>3</td>\n",
       "      <td>4</td>\n",
       "      <td>5</td>\n",
       "      <td>...</td>\n",
       "      <td>2</td>\n",
       "      <td>1</td>\n",
       "      <td>5</td>\n",
       "      <td>4</td>\n",
       "      <td>2</td>\n",
       "      <td>5</td>\n",
       "      <td>5</td>\n",
       "      <td>3</td>\n",
       "      <td>3</td>\n",
       "      <td>1</td>\n",
       "    </tr>\n",
       "    <tr>\n",
       "      <th>P4</th>\n",
       "      <td>True</td>\n",
       "      <td>True</td>\n",
       "      <td>False</td>\n",
       "      <td>True</td>\n",
       "      <td>False</td>\n",
       "      <td>False</td>\n",
       "      <td>False</td>\n",
       "      <td>2</td>\n",
       "      <td>4</td>\n",
       "      <td>3</td>\n",
       "      <td>...</td>\n",
       "      <td>2</td>\n",
       "      <td>5</td>\n",
       "      <td>5</td>\n",
       "      <td>4</td>\n",
       "      <td>2</td>\n",
       "      <td>5</td>\n",
       "      <td>4</td>\n",
       "      <td>2</td>\n",
       "      <td>3</td>\n",
       "      <td>1</td>\n",
       "    </tr>\n",
       "    <tr>\n",
       "      <th>P5</th>\n",
       "      <td>True</td>\n",
       "      <td>True</td>\n",
       "      <td>False</td>\n",
       "      <td>False</td>\n",
       "      <td>False</td>\n",
       "      <td>False</td>\n",
       "      <td>True</td>\n",
       "      <td>2</td>\n",
       "      <td>4</td>\n",
       "      <td>3</td>\n",
       "      <td>...</td>\n",
       "      <td>2</td>\n",
       "      <td>1</td>\n",
       "      <td>5</td>\n",
       "      <td>4</td>\n",
       "      <td>2</td>\n",
       "      <td>5</td>\n",
       "      <td>5</td>\n",
       "      <td>2</td>\n",
       "      <td>2</td>\n",
       "      <td>5</td>\n",
       "    </tr>\n",
       "  </tbody>\n",
       "</table>\n",
       "<p>5 rows × 55 columns</p>\n",
       "</div>"
      ],
      "text/plain": [
       "       S1     S2     S3     S4     S5     S6     S7  Q1  Q2  Q3  ...  Q39  \\\n",
       "#                                                                ...        \n",
       "P1   True   True   True   True  False   True   True   2   4   3  ...    2   \n",
       "P2   True   True   True   True  False  False   True   1   4   3  ...    5   \n",
       "P3  False  False  False   True  False   True  False   3   4   5  ...    2   \n",
       "P4   True   True  False   True  False  False  False   2   4   3  ...    2   \n",
       "P5   True   True  False  False  False  False   True   2   4   3  ...    2   \n",
       "\n",
       "    Q40  Q41  Q42  Q43  Q44  Q45  Q46  Q47  Q48  \n",
       "#                                                \n",
       "P1    1    5    4    2    5    2    2    2    1  \n",
       "P2    1    1    4    3    3    4    4    3    1  \n",
       "P3    1    5    4    2    5    5    3    3    1  \n",
       "P4    5    5    4    2    5    4    2    3    1  \n",
       "P5    1    5    4    2    5    5    2    2    5  \n",
       "\n",
       "[5 rows x 55 columns]"
      ]
     },
     "metadata": {},
     "output_type": "display_data"
    },
    {
     "data": {
      "text/html": [
       "<div>\n",
       "<style scoped>\n",
       "    .dataframe tbody tr th:only-of-type {\n",
       "        vertical-align: middle;\n",
       "    }\n",
       "\n",
       "    .dataframe tbody tr th {\n",
       "        vertical-align: top;\n",
       "    }\n",
       "\n",
       "    .dataframe thead th {\n",
       "        text-align: right;\n",
       "    }\n",
       "</style>\n",
       "<table border=\"1\" class=\"dataframe\">\n",
       "  <thead>\n",
       "    <tr style=\"text-align: right;\">\n",
       "      <th></th>\n",
       "      <th>S1</th>\n",
       "      <th>S2</th>\n",
       "      <th>S3</th>\n",
       "      <th>S4</th>\n",
       "      <th>S5</th>\n",
       "      <th>S6</th>\n",
       "      <th>S7</th>\n",
       "      <th>Q1</th>\n",
       "      <th>Q2</th>\n",
       "      <th>Q3</th>\n",
       "      <th>...</th>\n",
       "      <th>Q39</th>\n",
       "      <th>Q40</th>\n",
       "      <th>Q41</th>\n",
       "      <th>Q42</th>\n",
       "      <th>Q43</th>\n",
       "      <th>Q44</th>\n",
       "      <th>Q45</th>\n",
       "      <th>Q46</th>\n",
       "      <th>Q47</th>\n",
       "      <th>Q48</th>\n",
       "    </tr>\n",
       "    <tr>\n",
       "      <th>#</th>\n",
       "      <th></th>\n",
       "      <th></th>\n",
       "      <th></th>\n",
       "      <th></th>\n",
       "      <th></th>\n",
       "      <th></th>\n",
       "      <th></th>\n",
       "      <th></th>\n",
       "      <th></th>\n",
       "      <th></th>\n",
       "      <th></th>\n",
       "      <th></th>\n",
       "      <th></th>\n",
       "      <th></th>\n",
       "      <th></th>\n",
       "      <th></th>\n",
       "      <th></th>\n",
       "      <th></th>\n",
       "      <th></th>\n",
       "      <th></th>\n",
       "      <th></th>\n",
       "    </tr>\n",
       "  </thead>\n",
       "  <tbody>\n",
       "    <tr>\n",
       "      <th>P18</th>\n",
       "      <td>True</td>\n",
       "      <td>True</td>\n",
       "      <td>False</td>\n",
       "      <td>False</td>\n",
       "      <td>False</td>\n",
       "      <td>False</td>\n",
       "      <td>True</td>\n",
       "      <td>2</td>\n",
       "      <td>4</td>\n",
       "      <td>3</td>\n",
       "      <td>...</td>\n",
       "      <td>2</td>\n",
       "      <td>1</td>\n",
       "      <td>5</td>\n",
       "      <td>4</td>\n",
       "      <td>2</td>\n",
       "      <td>2</td>\n",
       "      <td>2</td>\n",
       "      <td>2</td>\n",
       "      <td>3</td>\n",
       "      <td>5</td>\n",
       "    </tr>\n",
       "    <tr>\n",
       "      <th>P19</th>\n",
       "      <td>True</td>\n",
       "      <td>True</td>\n",
       "      <td>False</td>\n",
       "      <td>False</td>\n",
       "      <td>True</td>\n",
       "      <td>False</td>\n",
       "      <td>True</td>\n",
       "      <td>2</td>\n",
       "      <td>4</td>\n",
       "      <td>5</td>\n",
       "      <td>...</td>\n",
       "      <td>2</td>\n",
       "      <td>5</td>\n",
       "      <td>5</td>\n",
       "      <td>4</td>\n",
       "      <td>2</td>\n",
       "      <td>5</td>\n",
       "      <td>4</td>\n",
       "      <td>1</td>\n",
       "      <td>5</td>\n",
       "      <td>1</td>\n",
       "    </tr>\n",
       "    <tr>\n",
       "      <th>P20</th>\n",
       "      <td>True</td>\n",
       "      <td>True</td>\n",
       "      <td>True</td>\n",
       "      <td>True</td>\n",
       "      <td>False</td>\n",
       "      <td>True</td>\n",
       "      <td>True</td>\n",
       "      <td>2</td>\n",
       "      <td>4</td>\n",
       "      <td>3</td>\n",
       "      <td>...</td>\n",
       "      <td>2</td>\n",
       "      <td>1</td>\n",
       "      <td>5</td>\n",
       "      <td>4</td>\n",
       "      <td>2</td>\n",
       "      <td>5</td>\n",
       "      <td>2</td>\n",
       "      <td>2</td>\n",
       "      <td>2</td>\n",
       "      <td>1</td>\n",
       "    </tr>\n",
       "    <tr>\n",
       "      <th>P21</th>\n",
       "      <td>True</td>\n",
       "      <td>True</td>\n",
       "      <td>False</td>\n",
       "      <td>True</td>\n",
       "      <td>True</td>\n",
       "      <td>True</td>\n",
       "      <td>True</td>\n",
       "      <td>2</td>\n",
       "      <td>4</td>\n",
       "      <td>3</td>\n",
       "      <td>...</td>\n",
       "      <td>2</td>\n",
       "      <td>1</td>\n",
       "      <td>5</td>\n",
       "      <td>4</td>\n",
       "      <td>2</td>\n",
       "      <td>5</td>\n",
       "      <td>2</td>\n",
       "      <td>2</td>\n",
       "      <td>2</td>\n",
       "      <td>1</td>\n",
       "    </tr>\n",
       "    <tr>\n",
       "      <th>P22</th>\n",
       "      <td>True</td>\n",
       "      <td>True</td>\n",
       "      <td>True</td>\n",
       "      <td>True</td>\n",
       "      <td>False</td>\n",
       "      <td>True</td>\n",
       "      <td>False</td>\n",
       "      <td>2</td>\n",
       "      <td>4</td>\n",
       "      <td>4</td>\n",
       "      <td>...</td>\n",
       "      <td>2</td>\n",
       "      <td>1</td>\n",
       "      <td>5</td>\n",
       "      <td>4</td>\n",
       "      <td>2</td>\n",
       "      <td>5</td>\n",
       "      <td>2</td>\n",
       "      <td>2</td>\n",
       "      <td>2</td>\n",
       "      <td>1</td>\n",
       "    </tr>\n",
       "  </tbody>\n",
       "</table>\n",
       "<p>5 rows × 55 columns</p>\n",
       "</div>"
      ],
      "text/plain": [
       "       S1    S2     S3     S4     S5     S6     S7  Q1  Q2  Q3  ...  Q39  Q40  \\\n",
       "#                                                               ...             \n",
       "P18  True  True  False  False  False  False   True   2   4   3  ...    2    1   \n",
       "P19  True  True  False  False   True  False   True   2   4   5  ...    2    5   \n",
       "P20  True  True   True   True  False   True   True   2   4   3  ...    2    1   \n",
       "P21  True  True  False   True   True   True   True   2   4   3  ...    2    1   \n",
       "P22  True  True   True   True  False   True  False   2   4   4  ...    2    1   \n",
       "\n",
       "     Q41  Q42  Q43  Q44  Q45  Q46  Q47  Q48  \n",
       "#                                            \n",
       "P18    5    4    2    2    2    2    3    5  \n",
       "P19    5    4    2    5    4    1    5    1  \n",
       "P20    5    4    2    5    2    2    2    1  \n",
       "P21    5    4    2    5    2    2    2    1  \n",
       "P22    5    4    2    5    2    2    2    1  \n",
       "\n",
       "[5 rows x 55 columns]"
      ]
     },
     "metadata": {},
     "output_type": "display_data"
    }
   ],
   "source": [
    "# load data\n",
    "table26 = pd.read_csv(join('ch2', 'RawResponsesAsDictionary.csv'), sep=',', index_col=0)\n",
    "\n",
    "# drop the first row, which contains the correct answers for each question\n",
    "table26 = table26.drop('ANS')\n",
    "\n",
    "display(table26.head())\n",
    "display(table26.tail())"
   ]
  },
  {
   "cell_type": "markdown",
   "metadata": {},
   "source": [
    "# Code scraps"
   ]
  },
  {
   "cell_type": "code",
   "execution_count": 172,
   "metadata": {},
   "outputs": [
    {
     "name": "stdout",
     "output_type": "stream",
     "text": [
      "Quiz\n",
      "RawResponses\n",
      "IsCorrect\n",
      "CorrectAnswers\n",
      "StatedSkills\n",
      "\n",
      "<getting list of skills>\n",
      "Quiz\n",
      "SkillNames\n",
      "['1: Core programming skills (i.e. storage, data types, decision structures, error handling, algorithms)', '2: Object Oriented Programming (i.e. classes, inheritance, polymorphism, encapsulation)', '3: Application Life Cycle Management', '4: Web Applications (development, hosting, services)', '5: Microsoft Windows desktop applications', '6: Databases & SQL', '7: C#']\n",
      "\n",
      "<getting skills for questions>\n",
      "Quiz\n",
      "SkillsForQuestion\n",
      "[[0], [0], [0, 6], [0, 6], [0], [0], [0, 6], [1, 6], [1, 6], [1], [1], [1, 6], [1, 6], [1, 6], [1], [1, 6], [1, 6], [1], [2], [2], [2], [2], [2], [0], [0], [0], [3], [3], [3], [3], [3], [3], [3], [3], [4], [1, 4], [4], [4], [4], [4], [5], [5], [5], [5], [5], [5], [5], [5]]\n",
      "\n",
      "<getting raw responses>\n",
      "RawResponses\n",
      "[[2, 4, 3, 3, 4, 3, 4, 5, 1, 5, 1, 1, 1, 4, 3, 1, 2, 3, 2, 3, 4, 5, 2, 2, 2, 4, 2, 3, 3, 2, 1, 4, 4, 5, 3, 4, 2, 1, 2, 1, 5, 4, 2, 5, 2, 2, 2, 1], [1, 4, 3, 3, 4, 1, 4, 5, 1, 5, 1, 5, 1, 4, 3, 3, 5, 3, 2, 3, 4, 5, 5, 2, 2, 4, 2, 3, 3, 2, 2, 1, 4, 5, 4, 4, 3, 1, 5, 1, 1, 4, 3, 3, 4, 4, 3, 1], [3, 4, 5, 2, 4, 5, 4, 5, 1, 5, 5, 3, 2, 5, 5, 1, 2, 1, 2, 3, 1, 5, 1, 1, 4, 4, 2, 3, 3, 5, 2, 1, 4, 5, 3, 1, 3, 2, 2, 1, 5, 4, 2, 5, 5, 3, 3, 1], [2, 4, 3, 3, 4, 3, 4, 5, 1, 5, 1, 1, 2, 4, 3, 1, 2, 3, 2, 3, 2, 2, 2, 2, 2, 4, 2, 3, 3, 2, 2, 4, 2, 5, 4, 3, 2, 1, 2, 5, 5, 4, 2, 5, 4, 2, 3, 1], [2, 4, 3, 3, 4, 1, 4, 5, 1, 5, 1, 1, 1, 4, 3, 1, 2, 3, 2, 3, 4, 5, 2, 2, 2, 4, 2, 3, 3, 2, 1, 1, 4, 5, 3, 4, 2, 1, 2, 1, 5, 4, 2, 5, 5, 2, 2, 5], [1, 3, 3, 5, 3, 4, 5, 2, 5, 2, 1, 4, 2, 2, 4, 4, 5, 1, 3, 2, 1, 3, 1, 2, 3, 5, 5, 1, 4, 4, 5, 5, 2, 3, 5, 3, 3, 1, 4, 4, 4, 2, 4, 3, 1, 5, 1, 3], [2, 4, 3, 3, 4, 1, 4, 5, 1, 5, 1, 1, 1, 2, 3, 1, 2, 3, 2, 3, 4, 5, 2, 2, 2, 4, 2, 3, 3, 5, 1, 4, 4, 5, 4, 4, 2, 1, 2, 1, 5, 4, 2, 5, 2, 2, 2, 1], [2, 4, 5, 2, 4, 1, 4, 5, 1, 5, 1, 1, 1, 4, 3, 1, 2, 3, 2, 3, 4, 4, 2, 2, 2, 4, 2, 3, 3, 1, 1, 1, 4, 5, 3, 4, 1, 4, 2, 5, 5, 4, 2, 5, 4, 2, 2, 1], [2, 4, 1, 3, 4, 1, 4, 5, 1, 5, 1, 1, 1, 4, 3, 1, 2, 3, 2, 3, 4, 2, 2, 1, 2, 5, 2, 3, 3, 2, 2, 4, 4, 5, 3, 4, 2, 1, 2, 1, 2, 4, 2, 5, 2, 2, 2, 1], [2, 4, 3, 3, 4, 1, 4, 5, 1, 5, 1, 1, 2, 4, 3, 1, 2, 3, 2, 2, 1, 5, 2, 2, 2, 4, 2, 3, 3, 2, 2, 4, 4, 5, 3, 4, 2, 1, 2, 1, 5, 4, 2, 5, 2, 1, 3, 1], [1, 4, 3, 3, 4, 3, 4, 5, 1, 5, 3, 1, 1, 4, 3, 1, 2, 3, 2, 3, 4, 5, 4, 2, 2, 4, 2, 3, 3, 2, 2, 4, 4, 5, 3, 5, 2, 1, 2, 4, 5, 4, 2, 4, 2, 1, 2, 4], [1, 1, 1, 3, 4, 1, 4, 5, 1, 5, 1, 5, 5, 2, 2, 1, 5, 3, 2, 3, 4, 5, 2, 2, 2, 4, 2, 3, 3, 2, 1, 1, 2, 2, 4, 4, 2, 1, 2, 1, 5, 2, 1, 4, 2, 2, 5, 5], [2, 4, 3, 3, 4, 3, 4, 5, 1, 5, 1, 1, 1, 2, 3, 1, 2, 3, 2, 3, 4, 2, 2, 2, 2, 4, 2, 3, 3, 5, 4, 4, 4, 5, 3, 3, 2, 1, 2, 4, 5, 4, 2, 5, 2, 2, 5, 1], [2, 5, 3, 3, 5, 5, 4, 5, 1, 5, 1, 1, 5, 2, 3, 1, 2, 3, 2, 3, 2, 4, 2, 3, 2, 4, 2, 3, 3, 2, 2, 1, 4, 5, 3, 4, 3, 1, 5, 5, 5, 4, 2, 5, 4, 2, 5, 5], [2, 4, 3, 3, 4, 3, 4, 5, 1, 5, 4, 5, 1, 2, 3, 5, 2, 3, 2, 4, 4, 1, 2, 3, 2, 4, 2, 3, 3, 5, 1, 4, 4, 5, 4, 4, 2, 1, 2, 4, 5, 4, 2, 5, 2, 2, 5, 1], [2, 4, 3, 5, 4, 1, 4, 5, 1, 5, 1, 1, 1, 4, 3, 1, 2, 3, 2, 3, 4, 5, 5, 2, 2, 4, 2, 3, 3, 4, 2, 4, 4, 5, 4, 4, 2, 1, 2, 5, 5, 4, 2, 5, 2, 2, 2, 1], [2, 4, 3, 3, 4, 1, 4, 5, 1, 5, 1, 1, 1, 4, 3, 1, 2, 3, 3, 3, 4, 5, 2, 2, 2, 4, 2, 3, 3, 2, 1, 4, 4, 5, 3, 4, 2, 1, 2, 5, 5, 4, 2, 5, 2, 2, 5, 1], [2, 4, 3, 3, 4, 3, 4, 5, 1, 5, 1, 1, 1, 4, 3, 1, 2, 3, 2, 3, 4, 2, 2, 2, 2, 4, 2, 3, 3, 2, 5, 4, 4, 5, 3, 4, 1, 1, 2, 1, 5, 4, 2, 2, 2, 2, 3, 5], [2, 4, 5, 3, 4, 3, 4, 2, 1, 5, 1, 5, 1, 4, 3, 1, 2, 3, 2, 3, 4, 3, 2, 2, 2, 4, 2, 3, 3, 2, 2, 4, 4, 5, 4, 4, 2, 1, 2, 5, 5, 4, 2, 5, 4, 1, 5, 1], [2, 4, 3, 3, 4, 1, 4, 5, 1, 5, 1, 1, 1, 4, 3, 1, 2, 3, 2, 3, 4, 4, 2, 2, 2, 4, 2, 3, 3, 5, 2, 4, 4, 5, 4, 4, 2, 1, 2, 1, 5, 4, 2, 5, 2, 2, 2, 1], [2, 4, 3, 3, 4, 1, 3, 5, 1, 5, 1, 1, 1, 4, 3, 1, 2, 3, 2, 3, 4, 5, 2, 2, 2, 4, 2, 3, 3, 3, 2, 4, 4, 5, 3, 4, 2, 1, 2, 1, 5, 4, 2, 5, 2, 2, 2, 1], [2, 4, 4, 3, 4, 1, 4, 5, 1, 5, 1, 1, 1, 3, 3, 1, 2, 4, 2, 3, 4, 5, 5, 2, 2, 4, 2, 3, 3, 2, 2, 4, 4, 5, 4, 4, 2, 1, 2, 1, 5, 4, 2, 5, 2, 2, 2, 1]]\n",
      "\n",
      "<getting response correctness>\n",
      "IsCorrect\n",
      "[[True, True, True, True, True, True, True, True, True, True, True, True, True, True, True, True, True, True, True, True, True, False, True, True, True, True, True, True, True, False, False, True, True, True, True, True, True, True, True, True, True, True, True, True, True, True, True, True], [False, True, True, True, True, True, True, True, True, True, True, False, True, True, True, False, False, True, True, True, True, False, False, True, True, True, True, True, True, False, True, False, True, True, False, True, False, True, False, True, False, True, False, False, False, False, False, True], [False, True, False, False, True, False, True, True, True, True, False, False, False, False, False, True, True, False, True, True, False, False, False, False, False, True, True, True, True, False, True, False, True, True, True, False, False, False, True, True, True, True, True, True, False, False, False, True], [True, True, True, True, True, False, True, True, True, True, True, True, False, True, True, True, True, True, True, True, False, False, True, True, True, True, True, True, True, False, True, True, False, True, False, False, True, True, True, False, True, True, True, True, False, True, False, True], [True, True, True, True, True, True, True, True, True, True, True, True, True, True, True, True, True, True, True, True, True, False, True, True, True, True, True, True, True, False, False, False, True, True, True, True, True, True, True, True, True, True, True, True, False, True, True, False], [False, False, True, False, False, False, False, False, False, False, True, False, False, False, False, False, False, False, False, False, False, False, False, True, False, False, False, False, False, True, False, False, False, False, False, False, False, True, False, False, False, False, False, False, False, False, False, False], [True, True, True, True, True, True, True, True, True, True, True, True, True, False, True, True, True, True, True, True, True, False, True, True, True, True, True, True, True, False, False, True, True, True, False, True, True, True, True, True, True, True, True, True, True, True, True, True], [True, True, False, False, True, True, True, True, True, True, True, True, True, True, True, True, True, True, True, True, True, True, True, True, True, True, True, True, True, False, False, False, True, True, True, True, False, False, True, False, True, True, True, True, False, True, True, True], [True, True, False, True, True, True, True, True, True, True, True, True, True, True, True, True, True, True, True, True, True, False, True, False, True, False, True, True, True, False, True, True, True, True, True, True, True, True, True, True, False, True, True, True, True, True, True, True], [True, True, True, True, True, True, True, True, True, True, True, True, False, True, True, True, True, True, True, False, False, False, True, True, True, True, True, True, True, False, True, True, True, True, True, True, True, True, True, True, True, True, True, True, True, False, False, True], [False, True, True, True, True, False, True, True, True, True, False, True, True, True, True, True, True, True, True, True, True, False, False, True, True, True, True, True, True, False, True, True, True, True, True, False, True, True, True, False, True, True, True, False, True, False, True, False], [False, False, False, True, True, True, True, True, True, True, True, False, False, False, False, True, False, True, True, True, True, False, True, True, True, True, True, True, True, False, False, False, False, False, False, True, True, True, True, True, True, False, False, False, True, True, False, False], [True, True, True, True, True, False, True, True, True, True, True, True, True, False, True, True, True, True, True, True, True, False, True, True, True, True, True, True, True, False, False, True, True, True, True, False, True, True, True, False, True, True, True, True, True, True, False, True], [True, False, True, True, False, False, True, True, True, True, True, True, False, False, True, True, True, True, True, True, False, True, True, False, True, True, True, True, True, False, True, False, True, True, True, True, False, True, False, False, True, True, True, True, False, True, False, False], [True, True, True, True, True, False, True, True, True, True, False, False, True, False, True, False, True, True, True, False, True, False, True, False, True, True, True, True, True, False, False, True, True, True, False, True, True, True, True, False, True, True, True, True, True, True, False, True], [True, True, True, False, True, True, True, True, True, True, True, True, True, True, True, True, True, True, True, True, True, False, False, True, True, True, True, True, True, True, True, True, True, True, False, True, True, True, True, False, True, True, True, True, True, True, True, True], [True, True, True, True, True, True, True, True, True, True, True, True, True, True, True, True, True, True, False, True, True, False, True, True, True, True, True, True, True, False, False, True, True, True, True, True, True, True, True, False, True, True, True, True, True, True, False, True], [True, True, True, True, True, False, True, True, True, True, True, True, True, True, True, True, True, True, True, True, True, False, True, True, True, True, True, True, True, False, False, True, True, True, True, True, False, True, True, True, True, True, True, False, True, True, False, False], [True, True, False, True, True, False, True, False, True, True, True, False, True, True, True, True, True, True, True, True, True, False, True, True, True, True, True, True, True, False, True, True, True, True, False, True, True, True, True, False, True, True, True, True, False, False, False, True], [True, True, True, True, True, True, True, True, True, True, True, True, True, True, True, True, True, True, True, True, True, True, True, True, True, True, True, True, True, False, True, True, True, True, False, True, True, True, True, True, True, True, True, True, True, True, True, True], [True, True, True, True, True, True, False, True, True, True, True, True, True, True, True, True, True, True, True, True, True, False, True, True, True, True, True, True, True, False, True, True, True, True, True, True, True, True, True, True, True, True, True, True, True, True, True, True], [True, True, False, True, True, True, True, True, True, True, True, True, True, False, True, True, True, False, True, True, True, False, False, True, True, True, True, True, True, False, True, True, True, True, False, True, True, True, True, True, True, True, True, True, True, True, True, True]]\n",
      "\n",
      "<getting correct answers>\n",
      "CorrectAnswers\n",
      "[2, 4, 3, 3, 4, 1, 4, 5, 1, 5, 1, 1, 1, 4, 3, 1, 2, 3, 2, 3, 4, 4, 2, 2, 2, 4, 2, 3, 3, 4, 2, 4, 4, 5, 3, 4, 2, 1, 2, 1, 5, 4, 2, 5, 2, 2, 2, 1]\n",
      "\n",
      "<getting stated skills>\n",
      "StatedSkills\n",
      "[[True, True, True, True, False, True, True], [True, True, True, True, False, False, True], [False, False, False, True, False, True, False], [True, True, False, True, False, False, False], [True, True, False, False, False, False, True], [False, False, False, False, False, False, False], [True, True, False, False, False, False, False], [True, True, False, False, False, False, True], [True, True, False, False, True, True, True], [True, True, False, False, False, True, True], [True, True, False, False, False, False, True], [False, False, False, False, True, False, False], [True, True, False, False, False, False, False], [True, True, False, False, False, True, False], [True, False, False, False, False, False, False], [True, True, False, False, True, True, True], [True, True, False, False, False, False, True], [True, True, False, False, False, False, True], [True, True, False, False, True, False, True], [True, True, True, True, False, True, True], [True, True, False, True, True, True, True], [True, True, True, True, False, True, False]]\n",
      "[['NaN', 'NaN', 'NaN', 'NaN', 'NaN', 'NaN', 'NaN'], [True, True, True, True, False, True, True], [True, True, True, True, False, False, True], [False, False, False, True, False, True, False], [True, True, False, True, False, False, False], [True, True, False, False, False, False, True], [False, False, False, False, False, False, False], [True, True, False, False, False, False, False], [True, True, False, False, False, False, True], [True, True, False, False, True, True, True], [True, True, False, False, False, True, True], [True, True, False, False, False, False, True], [False, False, False, False, True, False, False], [True, True, False, False, False, False, False], [True, True, False, False, False, True, False], [True, False, False, False, False, False, False], [True, True, False, False, True, True, True], [True, True, False, False, False, False, True], [True, True, False, False, False, False, True], [True, True, False, False, True, False, True], [True, True, True, True, False, True, True], [True, True, False, True, True, True, True], [True, True, True, True, False, True, False]]\n",
      "[[2, 4, 3, 3, 4, 1, 4, 5, 1, 5, 1, 1, 1, 4, 3, 1, 2, 3, 2, 3, 4, 4, 2, 2, 2, 4, 2, 3, 3, 4, 2, 4, 4, 5, 3, 4, 2, 1, 2, 1, 5, 4, 2, 5, 2, 2, 2, 1], [2, 4, 3, 3, 4, 3, 4, 5, 1, 5, 1, 1, 1, 4, 3, 1, 2, 3, 2, 3, 4, 5, 2, 2, 2, 4, 2, 3, 3, 2, 1, 4, 4, 5, 3, 4, 2, 1, 2, 1, 5, 4, 2, 5, 2, 2, 2, 1], [1, 4, 3, 3, 4, 1, 4, 5, 1, 5, 1, 5, 1, 4, 3, 3, 5, 3, 2, 3, 4, 5, 5, 2, 2, 4, 2, 3, 3, 2, 2, 1, 4, 5, 4, 4, 3, 1, 5, 1, 1, 4, 3, 3, 4, 4, 3, 1], [3, 4, 5, 2, 4, 5, 4, 5, 1, 5, 5, 3, 2, 5, 5, 1, 2, 1, 2, 3, 1, 5, 1, 1, 4, 4, 2, 3, 3, 5, 2, 1, 4, 5, 3, 1, 3, 2, 2, 1, 5, 4, 2, 5, 5, 3, 3, 1], [2, 4, 3, 3, 4, 3, 4, 5, 1, 5, 1, 1, 2, 4, 3, 1, 2, 3, 2, 3, 2, 2, 2, 2, 2, 4, 2, 3, 3, 2, 2, 4, 2, 5, 4, 3, 2, 1, 2, 5, 5, 4, 2, 5, 4, 2, 3, 1], [2, 4, 3, 3, 4, 1, 4, 5, 1, 5, 1, 1, 1, 4, 3, 1, 2, 3, 2, 3, 4, 5, 2, 2, 2, 4, 2, 3, 3, 2, 1, 1, 4, 5, 3, 4, 2, 1, 2, 1, 5, 4, 2, 5, 5, 2, 2, 5], [1, 3, 3, 5, 3, 4, 5, 2, 5, 2, 1, 4, 2, 2, 4, 4, 5, 1, 3, 2, 1, 3, 1, 2, 3, 5, 5, 1, 4, 4, 5, 5, 2, 3, 5, 3, 3, 1, 4, 4, 4, 2, 4, 3, 1, 5, 1, 3], [2, 4, 3, 3, 4, 1, 4, 5, 1, 5, 1, 1, 1, 2, 3, 1, 2, 3, 2, 3, 4, 5, 2, 2, 2, 4, 2, 3, 3, 5, 1, 4, 4, 5, 4, 4, 2, 1, 2, 1, 5, 4, 2, 5, 2, 2, 2, 1], [2, 4, 5, 2, 4, 1, 4, 5, 1, 5, 1, 1, 1, 4, 3, 1, 2, 3, 2, 3, 4, 4, 2, 2, 2, 4, 2, 3, 3, 1, 1, 1, 4, 5, 3, 4, 1, 4, 2, 5, 5, 4, 2, 5, 4, 2, 2, 1], [2, 4, 1, 3, 4, 1, 4, 5, 1, 5, 1, 1, 1, 4, 3, 1, 2, 3, 2, 3, 4, 2, 2, 1, 2, 5, 2, 3, 3, 2, 2, 4, 4, 5, 3, 4, 2, 1, 2, 1, 2, 4, 2, 5, 2, 2, 2, 1], [2, 4, 3, 3, 4, 1, 4, 5, 1, 5, 1, 1, 2, 4, 3, 1, 2, 3, 2, 2, 1, 5, 2, 2, 2, 4, 2, 3, 3, 2, 2, 4, 4, 5, 3, 4, 2, 1, 2, 1, 5, 4, 2, 5, 2, 1, 3, 1], [1, 4, 3, 3, 4, 3, 4, 5, 1, 5, 3, 1, 1, 4, 3, 1, 2, 3, 2, 3, 4, 5, 4, 2, 2, 4, 2, 3, 3, 2, 2, 4, 4, 5, 3, 5, 2, 1, 2, 4, 5, 4, 2, 4, 2, 1, 2, 4], [1, 1, 1, 3, 4, 1, 4, 5, 1, 5, 1, 5, 5, 2, 2, 1, 5, 3, 2, 3, 4, 5, 2, 2, 2, 4, 2, 3, 3, 2, 1, 1, 2, 2, 4, 4, 2, 1, 2, 1, 5, 2, 1, 4, 2, 2, 5, 5], [2, 4, 3, 3, 4, 3, 4, 5, 1, 5, 1, 1, 1, 2, 3, 1, 2, 3, 2, 3, 4, 2, 2, 2, 2, 4, 2, 3, 3, 5, 4, 4, 4, 5, 3, 3, 2, 1, 2, 4, 5, 4, 2, 5, 2, 2, 5, 1], [2, 5, 3, 3, 5, 5, 4, 5, 1, 5, 1, 1, 5, 2, 3, 1, 2, 3, 2, 3, 2, 4, 2, 3, 2, 4, 2, 3, 3, 2, 2, 1, 4, 5, 3, 4, 3, 1, 5, 5, 5, 4, 2, 5, 4, 2, 5, 5], [2, 4, 3, 3, 4, 3, 4, 5, 1, 5, 4, 5, 1, 2, 3, 5, 2, 3, 2, 4, 4, 1, 2, 3, 2, 4, 2, 3, 3, 5, 1, 4, 4, 5, 4, 4, 2, 1, 2, 4, 5, 4, 2, 5, 2, 2, 5, 1], [2, 4, 3, 5, 4, 1, 4, 5, 1, 5, 1, 1, 1, 4, 3, 1, 2, 3, 2, 3, 4, 5, 5, 2, 2, 4, 2, 3, 3, 4, 2, 4, 4, 5, 4, 4, 2, 1, 2, 5, 5, 4, 2, 5, 2, 2, 2, 1], [2, 4, 3, 3, 4, 1, 4, 5, 1, 5, 1, 1, 1, 4, 3, 1, 2, 3, 3, 3, 4, 5, 2, 2, 2, 4, 2, 3, 3, 2, 1, 4, 4, 5, 3, 4, 2, 1, 2, 5, 5, 4, 2, 5, 2, 2, 5, 1], [2, 4, 3, 3, 4, 3, 4, 5, 1, 5, 1, 1, 1, 4, 3, 1, 2, 3, 2, 3, 4, 2, 2, 2, 2, 4, 2, 3, 3, 2, 5, 4, 4, 5, 3, 4, 1, 1, 2, 1, 5, 4, 2, 2, 2, 2, 3, 5], [2, 4, 5, 3, 4, 3, 4, 2, 1, 5, 1, 5, 1, 4, 3, 1, 2, 3, 2, 3, 4, 3, 2, 2, 2, 4, 2, 3, 3, 2, 2, 4, 4, 5, 4, 4, 2, 1, 2, 5, 5, 4, 2, 5, 4, 1, 5, 1], [2, 4, 3, 3, 4, 1, 4, 5, 1, 5, 1, 1, 1, 4, 3, 1, 2, 3, 2, 3, 4, 4, 2, 2, 2, 4, 2, 3, 3, 5, 2, 4, 4, 5, 4, 4, 2, 1, 2, 1, 5, 4, 2, 5, 2, 2, 2, 1], [2, 4, 3, 3, 4, 1, 3, 5, 1, 5, 1, 1, 1, 4, 3, 1, 2, 3, 2, 3, 4, 5, 2, 2, 2, 4, 2, 3, 3, 3, 2, 4, 4, 5, 3, 4, 2, 1, 2, 1, 5, 4, 2, 5, 2, 2, 2, 1], [2, 4, 4, 3, 4, 1, 4, 5, 1, 5, 1, 1, 1, 3, 3, 1, 2, 4, 2, 3, 4, 5, 5, 2, 2, 4, 2, 3, 3, 2, 2, 4, 4, 5, 4, 4, 2, 1, 2, 1, 5, 4, 2, 5, 2, 2, 2, 1]]\n"
     ]
    }
   ],
   "source": [
    "import xml.etree.ElementTree as ET\n",
    "tree = ET.parse('./mbml/ch2/InputData.objml')\n",
    "root = tree.getroot()\n",
    "\n",
    "\n",
    "for child in root:\n",
    "    print(child.tag)\n",
    "    \n",
    "# get a list of the skills\n",
    "print('\\n<getting list of skills>')\n",
    "print(root[0].tag)\n",
    "print(root[0][0].tag)\n",
    "questions = []\n",
    "for child in root[0][0]:\n",
    "    #print(child.text)\n",
    "    questions.append(child.text)\n",
    "print(questions)\n",
    "    \n",
    "    \n",
    "# get which skills are needed for each question\n",
    "print('\\n<getting skills for questions>')\n",
    "print(root[0].tag)\n",
    "print(root[0][1].tag)\n",
    "skillsforq = []\n",
    "for child in root[0][1]:\n",
    "    temp = []\n",
    "    for grandchild in child:\n",
    "        #print(grandchild.text)\n",
    "        temp.append(int(grandchild.text))\n",
    "    skillsforq.append(temp)\n",
    "print(skillsforq)\n",
    "\n",
    "\n",
    "# get raw responses\n",
    "print('\\n<getting raw responses>')\n",
    "print(root[1].tag)\n",
    "raw = []\n",
    "for child in root[1]:\n",
    "    temp = []\n",
    "    for grandchild in child:\n",
    "        #print(grandchild.text)\n",
    "        temp.append(int(grandchild.text))\n",
    "    raw.append(temp)\n",
    "print(raw)\n",
    "\n",
    "\n",
    "# get whether response is correct or not\n",
    "print('\\n<getting response correctness>')\n",
    "print(root[2].tag)\n",
    "iscorrect = []\n",
    "for child in root[2]:\n",
    "    temp = []\n",
    "    for grandchild in child:\n",
    "        #print(grandchild.text)\n",
    "        temp.append(True if grandchild.text == 'True' else False)\n",
    "    iscorrect.append(temp)\n",
    "print(iscorrect)\n",
    "\n",
    "\n",
    "# get correct answers for the questions\n",
    "print('\\n<getting correct answers>')\n",
    "print(root[3].tag)\n",
    "correct = []\n",
    "for child in root[3]:\n",
    "    correct.append(int(child.text))\n",
    "print(correct)\n",
    "\n",
    "\n",
    "# get which skills participants state they have\n",
    "print('\\n<getting stated skills>')\n",
    "print(root[4].tag)\n",
    "haveskill = []\n",
    "for child in root[4]:\n",
    "    temp = []\n",
    "    for grandchild in child:\n",
    "        temp.append(True if grandchild.text == 'True' else False)\n",
    "    haveskill.append(temp)\n",
    "print(haveskill)\n",
    "\n",
    "\n",
    "### Start putting the stuff together ###\n",
    "\n",
    "# add in a row of NaN to stated skills (since the first row aren't participant answers)\n",
    "haveskill.insert(0, ['NaN', 'NaN', 'NaN', 'NaN', 'NaN', 'NaN', 'NaN'])\n",
    "print(haveskill)\n",
    "\n",
    "# add in the correct answers in front of the given answers\n",
    "raw.insert(0, correct)\n",
    "print(raw)"
   ]
  },
  {
   "cell_type": "markdown",
   "metadata": {},
   "source": [
    "#### Make dataframe from this data (same as table 2.6)"
   ]
  },
  {
   "cell_type": "code",
   "execution_count": 189,
   "metadata": {},
   "outputs": [
    {
     "data": {
      "text/html": [
       "<div>\n",
       "<style scoped>\n",
       "    .dataframe tbody tr th:only-of-type {\n",
       "        vertical-align: middle;\n",
       "    }\n",
       "\n",
       "    .dataframe tbody tr th {\n",
       "        vertical-align: top;\n",
       "    }\n",
       "\n",
       "    .dataframe thead th {\n",
       "        text-align: right;\n",
       "    }\n",
       "</style>\n",
       "<table border=\"1\" class=\"dataframe\">\n",
       "  <thead>\n",
       "    <tr style=\"text-align: right;\">\n",
       "      <th></th>\n",
       "      <th>S1</th>\n",
       "      <th>S2</th>\n",
       "      <th>S3</th>\n",
       "      <th>S4</th>\n",
       "      <th>S5</th>\n",
       "      <th>S6</th>\n",
       "      <th>S7</th>\n",
       "      <th>Q1</th>\n",
       "      <th>Q2</th>\n",
       "      <th>Q3</th>\n",
       "      <th>...</th>\n",
       "      <th>Q39</th>\n",
       "      <th>Q40</th>\n",
       "      <th>Q41</th>\n",
       "      <th>Q42</th>\n",
       "      <th>Q43</th>\n",
       "      <th>Q44</th>\n",
       "      <th>Q45</th>\n",
       "      <th>Q46</th>\n",
       "      <th>Q47</th>\n",
       "      <th>Q48</th>\n",
       "    </tr>\n",
       "  </thead>\n",
       "  <tbody>\n",
       "    <tr>\n",
       "      <th>ANS</th>\n",
       "      <td>NaN</td>\n",
       "      <td>NaN</td>\n",
       "      <td>NaN</td>\n",
       "      <td>NaN</td>\n",
       "      <td>NaN</td>\n",
       "      <td>NaN</td>\n",
       "      <td>NaN</td>\n",
       "      <td>2</td>\n",
       "      <td>4</td>\n",
       "      <td>3</td>\n",
       "      <td>...</td>\n",
       "      <td>2</td>\n",
       "      <td>1</td>\n",
       "      <td>5</td>\n",
       "      <td>4</td>\n",
       "      <td>2</td>\n",
       "      <td>5</td>\n",
       "      <td>2</td>\n",
       "      <td>2</td>\n",
       "      <td>2</td>\n",
       "      <td>1</td>\n",
       "    </tr>\n",
       "    <tr>\n",
       "      <th>P1</th>\n",
       "      <td>True</td>\n",
       "      <td>True</td>\n",
       "      <td>True</td>\n",
       "      <td>True</td>\n",
       "      <td>False</td>\n",
       "      <td>True</td>\n",
       "      <td>True</td>\n",
       "      <td>2</td>\n",
       "      <td>4</td>\n",
       "      <td>3</td>\n",
       "      <td>...</td>\n",
       "      <td>2</td>\n",
       "      <td>1</td>\n",
       "      <td>5</td>\n",
       "      <td>4</td>\n",
       "      <td>2</td>\n",
       "      <td>5</td>\n",
       "      <td>2</td>\n",
       "      <td>2</td>\n",
       "      <td>2</td>\n",
       "      <td>1</td>\n",
       "    </tr>\n",
       "    <tr>\n",
       "      <th>P2</th>\n",
       "      <td>True</td>\n",
       "      <td>True</td>\n",
       "      <td>True</td>\n",
       "      <td>True</td>\n",
       "      <td>False</td>\n",
       "      <td>False</td>\n",
       "      <td>True</td>\n",
       "      <td>1</td>\n",
       "      <td>4</td>\n",
       "      <td>3</td>\n",
       "      <td>...</td>\n",
       "      <td>5</td>\n",
       "      <td>1</td>\n",
       "      <td>1</td>\n",
       "      <td>4</td>\n",
       "      <td>3</td>\n",
       "      <td>3</td>\n",
       "      <td>4</td>\n",
       "      <td>4</td>\n",
       "      <td>3</td>\n",
       "      <td>1</td>\n",
       "    </tr>\n",
       "    <tr>\n",
       "      <th>P3</th>\n",
       "      <td>False</td>\n",
       "      <td>False</td>\n",
       "      <td>False</td>\n",
       "      <td>True</td>\n",
       "      <td>False</td>\n",
       "      <td>True</td>\n",
       "      <td>False</td>\n",
       "      <td>3</td>\n",
       "      <td>4</td>\n",
       "      <td>5</td>\n",
       "      <td>...</td>\n",
       "      <td>2</td>\n",
       "      <td>1</td>\n",
       "      <td>5</td>\n",
       "      <td>4</td>\n",
       "      <td>2</td>\n",
       "      <td>5</td>\n",
       "      <td>5</td>\n",
       "      <td>3</td>\n",
       "      <td>3</td>\n",
       "      <td>1</td>\n",
       "    </tr>\n",
       "    <tr>\n",
       "      <th>P4</th>\n",
       "      <td>True</td>\n",
       "      <td>True</td>\n",
       "      <td>False</td>\n",
       "      <td>True</td>\n",
       "      <td>False</td>\n",
       "      <td>False</td>\n",
       "      <td>False</td>\n",
       "      <td>2</td>\n",
       "      <td>4</td>\n",
       "      <td>3</td>\n",
       "      <td>...</td>\n",
       "      <td>2</td>\n",
       "      <td>5</td>\n",
       "      <td>5</td>\n",
       "      <td>4</td>\n",
       "      <td>2</td>\n",
       "      <td>5</td>\n",
       "      <td>4</td>\n",
       "      <td>2</td>\n",
       "      <td>3</td>\n",
       "      <td>1</td>\n",
       "    </tr>\n",
       "    <tr>\n",
       "      <th>P5</th>\n",
       "      <td>True</td>\n",
       "      <td>True</td>\n",
       "      <td>False</td>\n",
       "      <td>False</td>\n",
       "      <td>False</td>\n",
       "      <td>False</td>\n",
       "      <td>True</td>\n",
       "      <td>2</td>\n",
       "      <td>4</td>\n",
       "      <td>3</td>\n",
       "      <td>...</td>\n",
       "      <td>2</td>\n",
       "      <td>1</td>\n",
       "      <td>5</td>\n",
       "      <td>4</td>\n",
       "      <td>2</td>\n",
       "      <td>5</td>\n",
       "      <td>5</td>\n",
       "      <td>2</td>\n",
       "      <td>2</td>\n",
       "      <td>5</td>\n",
       "    </tr>\n",
       "    <tr>\n",
       "      <th>P6</th>\n",
       "      <td>False</td>\n",
       "      <td>False</td>\n",
       "      <td>False</td>\n",
       "      <td>False</td>\n",
       "      <td>False</td>\n",
       "      <td>False</td>\n",
       "      <td>False</td>\n",
       "      <td>1</td>\n",
       "      <td>3</td>\n",
       "      <td>3</td>\n",
       "      <td>...</td>\n",
       "      <td>4</td>\n",
       "      <td>4</td>\n",
       "      <td>4</td>\n",
       "      <td>2</td>\n",
       "      <td>4</td>\n",
       "      <td>3</td>\n",
       "      <td>1</td>\n",
       "      <td>5</td>\n",
       "      <td>1</td>\n",
       "      <td>3</td>\n",
       "    </tr>\n",
       "    <tr>\n",
       "      <th>P7</th>\n",
       "      <td>True</td>\n",
       "      <td>True</td>\n",
       "      <td>False</td>\n",
       "      <td>False</td>\n",
       "      <td>False</td>\n",
       "      <td>False</td>\n",
       "      <td>False</td>\n",
       "      <td>2</td>\n",
       "      <td>4</td>\n",
       "      <td>3</td>\n",
       "      <td>...</td>\n",
       "      <td>2</td>\n",
       "      <td>1</td>\n",
       "      <td>5</td>\n",
       "      <td>4</td>\n",
       "      <td>2</td>\n",
       "      <td>5</td>\n",
       "      <td>2</td>\n",
       "      <td>2</td>\n",
       "      <td>2</td>\n",
       "      <td>1</td>\n",
       "    </tr>\n",
       "    <tr>\n",
       "      <th>P8</th>\n",
       "      <td>True</td>\n",
       "      <td>True</td>\n",
       "      <td>False</td>\n",
       "      <td>False</td>\n",
       "      <td>False</td>\n",
       "      <td>False</td>\n",
       "      <td>True</td>\n",
       "      <td>2</td>\n",
       "      <td>4</td>\n",
       "      <td>5</td>\n",
       "      <td>...</td>\n",
       "      <td>2</td>\n",
       "      <td>5</td>\n",
       "      <td>5</td>\n",
       "      <td>4</td>\n",
       "      <td>2</td>\n",
       "      <td>5</td>\n",
       "      <td>4</td>\n",
       "      <td>2</td>\n",
       "      <td>2</td>\n",
       "      <td>1</td>\n",
       "    </tr>\n",
       "    <tr>\n",
       "      <th>P9</th>\n",
       "      <td>True</td>\n",
       "      <td>True</td>\n",
       "      <td>False</td>\n",
       "      <td>False</td>\n",
       "      <td>True</td>\n",
       "      <td>True</td>\n",
       "      <td>True</td>\n",
       "      <td>2</td>\n",
       "      <td>4</td>\n",
       "      <td>1</td>\n",
       "      <td>...</td>\n",
       "      <td>2</td>\n",
       "      <td>1</td>\n",
       "      <td>2</td>\n",
       "      <td>4</td>\n",
       "      <td>2</td>\n",
       "      <td>5</td>\n",
       "      <td>2</td>\n",
       "      <td>2</td>\n",
       "      <td>2</td>\n",
       "      <td>1</td>\n",
       "    </tr>\n",
       "    <tr>\n",
       "      <th>P10</th>\n",
       "      <td>True</td>\n",
       "      <td>True</td>\n",
       "      <td>False</td>\n",
       "      <td>False</td>\n",
       "      <td>False</td>\n",
       "      <td>True</td>\n",
       "      <td>True</td>\n",
       "      <td>2</td>\n",
       "      <td>4</td>\n",
       "      <td>3</td>\n",
       "      <td>...</td>\n",
       "      <td>2</td>\n",
       "      <td>1</td>\n",
       "      <td>5</td>\n",
       "      <td>4</td>\n",
       "      <td>2</td>\n",
       "      <td>5</td>\n",
       "      <td>2</td>\n",
       "      <td>1</td>\n",
       "      <td>3</td>\n",
       "      <td>1</td>\n",
       "    </tr>\n",
       "    <tr>\n",
       "      <th>P11</th>\n",
       "      <td>True</td>\n",
       "      <td>True</td>\n",
       "      <td>False</td>\n",
       "      <td>False</td>\n",
       "      <td>False</td>\n",
       "      <td>False</td>\n",
       "      <td>True</td>\n",
       "      <td>1</td>\n",
       "      <td>4</td>\n",
       "      <td>3</td>\n",
       "      <td>...</td>\n",
       "      <td>2</td>\n",
       "      <td>4</td>\n",
       "      <td>5</td>\n",
       "      <td>4</td>\n",
       "      <td>2</td>\n",
       "      <td>4</td>\n",
       "      <td>2</td>\n",
       "      <td>1</td>\n",
       "      <td>2</td>\n",
       "      <td>4</td>\n",
       "    </tr>\n",
       "    <tr>\n",
       "      <th>P12</th>\n",
       "      <td>False</td>\n",
       "      <td>False</td>\n",
       "      <td>False</td>\n",
       "      <td>False</td>\n",
       "      <td>True</td>\n",
       "      <td>False</td>\n",
       "      <td>False</td>\n",
       "      <td>1</td>\n",
       "      <td>1</td>\n",
       "      <td>1</td>\n",
       "      <td>...</td>\n",
       "      <td>2</td>\n",
       "      <td>1</td>\n",
       "      <td>5</td>\n",
       "      <td>2</td>\n",
       "      <td>1</td>\n",
       "      <td>4</td>\n",
       "      <td>2</td>\n",
       "      <td>2</td>\n",
       "      <td>5</td>\n",
       "      <td>5</td>\n",
       "    </tr>\n",
       "    <tr>\n",
       "      <th>P13</th>\n",
       "      <td>True</td>\n",
       "      <td>True</td>\n",
       "      <td>False</td>\n",
       "      <td>False</td>\n",
       "      <td>False</td>\n",
       "      <td>False</td>\n",
       "      <td>False</td>\n",
       "      <td>2</td>\n",
       "      <td>4</td>\n",
       "      <td>3</td>\n",
       "      <td>...</td>\n",
       "      <td>2</td>\n",
       "      <td>4</td>\n",
       "      <td>5</td>\n",
       "      <td>4</td>\n",
       "      <td>2</td>\n",
       "      <td>5</td>\n",
       "      <td>2</td>\n",
       "      <td>2</td>\n",
       "      <td>5</td>\n",
       "      <td>1</td>\n",
       "    </tr>\n",
       "    <tr>\n",
       "      <th>P14</th>\n",
       "      <td>True</td>\n",
       "      <td>True</td>\n",
       "      <td>False</td>\n",
       "      <td>False</td>\n",
       "      <td>False</td>\n",
       "      <td>True</td>\n",
       "      <td>False</td>\n",
       "      <td>2</td>\n",
       "      <td>5</td>\n",
       "      <td>3</td>\n",
       "      <td>...</td>\n",
       "      <td>5</td>\n",
       "      <td>5</td>\n",
       "      <td>5</td>\n",
       "      <td>4</td>\n",
       "      <td>2</td>\n",
       "      <td>5</td>\n",
       "      <td>4</td>\n",
       "      <td>2</td>\n",
       "      <td>5</td>\n",
       "      <td>5</td>\n",
       "    </tr>\n",
       "    <tr>\n",
       "      <th>P15</th>\n",
       "      <td>True</td>\n",
       "      <td>False</td>\n",
       "      <td>False</td>\n",
       "      <td>False</td>\n",
       "      <td>False</td>\n",
       "      <td>False</td>\n",
       "      <td>False</td>\n",
       "      <td>2</td>\n",
       "      <td>4</td>\n",
       "      <td>3</td>\n",
       "      <td>...</td>\n",
       "      <td>2</td>\n",
       "      <td>4</td>\n",
       "      <td>5</td>\n",
       "      <td>4</td>\n",
       "      <td>2</td>\n",
       "      <td>5</td>\n",
       "      <td>2</td>\n",
       "      <td>2</td>\n",
       "      <td>5</td>\n",
       "      <td>1</td>\n",
       "    </tr>\n",
       "    <tr>\n",
       "      <th>P16</th>\n",
       "      <td>True</td>\n",
       "      <td>True</td>\n",
       "      <td>False</td>\n",
       "      <td>False</td>\n",
       "      <td>True</td>\n",
       "      <td>True</td>\n",
       "      <td>True</td>\n",
       "      <td>2</td>\n",
       "      <td>4</td>\n",
       "      <td>3</td>\n",
       "      <td>...</td>\n",
       "      <td>2</td>\n",
       "      <td>5</td>\n",
       "      <td>5</td>\n",
       "      <td>4</td>\n",
       "      <td>2</td>\n",
       "      <td>5</td>\n",
       "      <td>2</td>\n",
       "      <td>2</td>\n",
       "      <td>2</td>\n",
       "      <td>1</td>\n",
       "    </tr>\n",
       "    <tr>\n",
       "      <th>P17</th>\n",
       "      <td>True</td>\n",
       "      <td>True</td>\n",
       "      <td>False</td>\n",
       "      <td>False</td>\n",
       "      <td>False</td>\n",
       "      <td>False</td>\n",
       "      <td>True</td>\n",
       "      <td>2</td>\n",
       "      <td>4</td>\n",
       "      <td>3</td>\n",
       "      <td>...</td>\n",
       "      <td>2</td>\n",
       "      <td>5</td>\n",
       "      <td>5</td>\n",
       "      <td>4</td>\n",
       "      <td>2</td>\n",
       "      <td>5</td>\n",
       "      <td>2</td>\n",
       "      <td>2</td>\n",
       "      <td>5</td>\n",
       "      <td>1</td>\n",
       "    </tr>\n",
       "    <tr>\n",
       "      <th>P18</th>\n",
       "      <td>True</td>\n",
       "      <td>True</td>\n",
       "      <td>False</td>\n",
       "      <td>False</td>\n",
       "      <td>False</td>\n",
       "      <td>False</td>\n",
       "      <td>True</td>\n",
       "      <td>2</td>\n",
       "      <td>4</td>\n",
       "      <td>3</td>\n",
       "      <td>...</td>\n",
       "      <td>2</td>\n",
       "      <td>1</td>\n",
       "      <td>5</td>\n",
       "      <td>4</td>\n",
       "      <td>2</td>\n",
       "      <td>2</td>\n",
       "      <td>2</td>\n",
       "      <td>2</td>\n",
       "      <td>3</td>\n",
       "      <td>5</td>\n",
       "    </tr>\n",
       "    <tr>\n",
       "      <th>P19</th>\n",
       "      <td>True</td>\n",
       "      <td>True</td>\n",
       "      <td>False</td>\n",
       "      <td>False</td>\n",
       "      <td>True</td>\n",
       "      <td>False</td>\n",
       "      <td>True</td>\n",
       "      <td>2</td>\n",
       "      <td>4</td>\n",
       "      <td>5</td>\n",
       "      <td>...</td>\n",
       "      <td>2</td>\n",
       "      <td>5</td>\n",
       "      <td>5</td>\n",
       "      <td>4</td>\n",
       "      <td>2</td>\n",
       "      <td>5</td>\n",
       "      <td>4</td>\n",
       "      <td>1</td>\n",
       "      <td>5</td>\n",
       "      <td>1</td>\n",
       "    </tr>\n",
       "    <tr>\n",
       "      <th>P20</th>\n",
       "      <td>True</td>\n",
       "      <td>True</td>\n",
       "      <td>True</td>\n",
       "      <td>True</td>\n",
       "      <td>False</td>\n",
       "      <td>True</td>\n",
       "      <td>True</td>\n",
       "      <td>2</td>\n",
       "      <td>4</td>\n",
       "      <td>3</td>\n",
       "      <td>...</td>\n",
       "      <td>2</td>\n",
       "      <td>1</td>\n",
       "      <td>5</td>\n",
       "      <td>4</td>\n",
       "      <td>2</td>\n",
       "      <td>5</td>\n",
       "      <td>2</td>\n",
       "      <td>2</td>\n",
       "      <td>2</td>\n",
       "      <td>1</td>\n",
       "    </tr>\n",
       "    <tr>\n",
       "      <th>P21</th>\n",
       "      <td>True</td>\n",
       "      <td>True</td>\n",
       "      <td>False</td>\n",
       "      <td>True</td>\n",
       "      <td>True</td>\n",
       "      <td>True</td>\n",
       "      <td>True</td>\n",
       "      <td>2</td>\n",
       "      <td>4</td>\n",
       "      <td>3</td>\n",
       "      <td>...</td>\n",
       "      <td>2</td>\n",
       "      <td>1</td>\n",
       "      <td>5</td>\n",
       "      <td>4</td>\n",
       "      <td>2</td>\n",
       "      <td>5</td>\n",
       "      <td>2</td>\n",
       "      <td>2</td>\n",
       "      <td>2</td>\n",
       "      <td>1</td>\n",
       "    </tr>\n",
       "    <tr>\n",
       "      <th>P22</th>\n",
       "      <td>True</td>\n",
       "      <td>True</td>\n",
       "      <td>True</td>\n",
       "      <td>True</td>\n",
       "      <td>False</td>\n",
       "      <td>True</td>\n",
       "      <td>False</td>\n",
       "      <td>2</td>\n",
       "      <td>4</td>\n",
       "      <td>4</td>\n",
       "      <td>...</td>\n",
       "      <td>2</td>\n",
       "      <td>1</td>\n",
       "      <td>5</td>\n",
       "      <td>4</td>\n",
       "      <td>2</td>\n",
       "      <td>5</td>\n",
       "      <td>2</td>\n",
       "      <td>2</td>\n",
       "      <td>2</td>\n",
       "      <td>1</td>\n",
       "    </tr>\n",
       "  </tbody>\n",
       "</table>\n",
       "<p>23 rows × 55 columns</p>\n",
       "</div>"
      ],
      "text/plain": [
       "        S1     S2     S3     S4     S5     S6     S7  Q1  Q2  Q3  ...  Q39  \\\n",
       "ANS    NaN    NaN    NaN    NaN    NaN    NaN    NaN   2   4   3  ...    2   \n",
       "P1    True   True   True   True  False   True   True   2   4   3  ...    2   \n",
       "P2    True   True   True   True  False  False   True   1   4   3  ...    5   \n",
       "P3   False  False  False   True  False   True  False   3   4   5  ...    2   \n",
       "P4    True   True  False   True  False  False  False   2   4   3  ...    2   \n",
       "P5    True   True  False  False  False  False   True   2   4   3  ...    2   \n",
       "P6   False  False  False  False  False  False  False   1   3   3  ...    4   \n",
       "P7    True   True  False  False  False  False  False   2   4   3  ...    2   \n",
       "P8    True   True  False  False  False  False   True   2   4   5  ...    2   \n",
       "P9    True   True  False  False   True   True   True   2   4   1  ...    2   \n",
       "P10   True   True  False  False  False   True   True   2   4   3  ...    2   \n",
       "P11   True   True  False  False  False  False   True   1   4   3  ...    2   \n",
       "P12  False  False  False  False   True  False  False   1   1   1  ...    2   \n",
       "P13   True   True  False  False  False  False  False   2   4   3  ...    2   \n",
       "P14   True   True  False  False  False   True  False   2   5   3  ...    5   \n",
       "P15   True  False  False  False  False  False  False   2   4   3  ...    2   \n",
       "P16   True   True  False  False   True   True   True   2   4   3  ...    2   \n",
       "P17   True   True  False  False  False  False   True   2   4   3  ...    2   \n",
       "P18   True   True  False  False  False  False   True   2   4   3  ...    2   \n",
       "P19   True   True  False  False   True  False   True   2   4   5  ...    2   \n",
       "P20   True   True   True   True  False   True   True   2   4   3  ...    2   \n",
       "P21   True   True  False   True   True   True   True   2   4   3  ...    2   \n",
       "P22   True   True   True   True  False   True  False   2   4   4  ...    2   \n",
       "\n",
       "     Q40  Q41  Q42  Q43  Q44  Q45  Q46  Q47  Q48  \n",
       "ANS    1    5    4    2    5    2    2    2    1  \n",
       "P1     1    5    4    2    5    2    2    2    1  \n",
       "P2     1    1    4    3    3    4    4    3    1  \n",
       "P3     1    5    4    2    5    5    3    3    1  \n",
       "P4     5    5    4    2    5    4    2    3    1  \n",
       "P5     1    5    4    2    5    5    2    2    5  \n",
       "P6     4    4    2    4    3    1    5    1    3  \n",
       "P7     1    5    4    2    5    2    2    2    1  \n",
       "P8     5    5    4    2    5    4    2    2    1  \n",
       "P9     1    2    4    2    5    2    2    2    1  \n",
       "P10    1    5    4    2    5    2    1    3    1  \n",
       "P11    4    5    4    2    4    2    1    2    4  \n",
       "P12    1    5    2    1    4    2    2    5    5  \n",
       "P13    4    5    4    2    5    2    2    5    1  \n",
       "P14    5    5    4    2    5    4    2    5    5  \n",
       "P15    4    5    4    2    5    2    2    5    1  \n",
       "P16    5    5    4    2    5    2    2    2    1  \n",
       "P17    5    5    4    2    5    2    2    5    1  \n",
       "P18    1    5    4    2    2    2    2    3    5  \n",
       "P19    5    5    4    2    5    4    1    5    1  \n",
       "P20    1    5    4    2    5    2    2    2    1  \n",
       "P21    1    5    4    2    5    2    2    2    1  \n",
       "P22    1    5    4    2    5    2    2    2    1  \n",
       "\n",
       "[23 rows x 55 columns]"
      ]
     },
     "metadata": {},
     "output_type": "display_data"
    }
   ],
   "source": [
    "rownames = ['ANS'] + ['P{}'.format(s) for s in range(1, 23)]\n",
    "colnames = ['S{}'.format(s) for s in range(1, 8)] + ['Q{}'.format(s) for s in range(1, len(raw[0])+1)]\n",
    "\n",
    "answers_df = pd.DataFrame(raw)\n",
    "answers_df.index = rownames\n",
    "answers_df.columns = colnames[7:]\n",
    "\n",
    "skills_df = pd.DataFrame(haveskill)\n",
    "skills_df.index = rownames\n",
    "skills_df.columns = colnames[:7]\n",
    "\n",
    "table26 = skills_df.join(answers_df)\n",
    "\n",
    "table26.to_csv('./mbml/ch2/table26.tsv', sep='\\t', index=True)\n",
    "\n",
    "display(table26)"
   ]
  }
 ],
 "metadata": {
  "kernelspec": {
   "display_name": "Python 3",
   "language": "python",
   "name": "python3"
  },
  "language_info": {
   "codemirror_mode": {
    "name": "ipython",
    "version": 3
   },
   "file_extension": ".py",
   "mimetype": "text/x-python",
   "name": "python",
   "nbconvert_exporter": "python",
   "pygments_lexer": "ipython3",
   "version": "3.7.9"
  }
 },
 "nbformat": 4,
 "nbformat_minor": 4
}
