{
 "cells": [
  {
   "cell_type": "markdown",
   "metadata": {
    "colab_type": "text",
    "id": "C60ZAm4-Yo4M"
   },
   "source": [
    "# Week 6 - Classification models  \n",
    "\n",
    "## Part 4: Travel mode choice - Hierarchical models\n",
    "\n",
    "This part is where we start to make things more interesting :-)\n",
    "\n",
    "We will revisit the original real world problem of travel model choice (with 4 classes), but this time we shall consider a hierarchical model. \n",
    "\n",
    "More on that later, for now the same stuff from part 2: imports, loading data, preprocessing, train/test split, etc."
   ]
  },
  {
   "cell_type": "markdown",
   "metadata": {
    "colab_type": "text",
    "id": "zCHBydp2Yo4N"
   },
   "source": [
    "Import required libraries:"
   ]
  },
  {
   "cell_type": "code",
   "execution_count": 22,
   "metadata": {
    "colab": {
     "base_uri": "https://localhost:8080/",
     "height": 119
    },
    "colab_type": "code",
    "executionInfo": {
     "elapsed": 5510,
     "status": "ok",
     "timestamp": 1582474853855,
     "user": {
      "displayName": "Filipe Rodrigues",
      "photoUrl": "https://lh3.googleusercontent.com/a-/AAuE7mDaWEE0j1oWjHLxVkWKYDXRh8NUBFCgGYF0XZOsvA=s64",
      "userId": "15636531912642599438"
     },
     "user_tz": -60
    },
    "id": "Ei1QbnmhYyXM",
    "outputId": "f16ab489-385a-492f-a19f-a76aeacc92a2"
   },
   "outputs": [
    {
     "name": "stdout",
     "output_type": "stream",
     "text": [
      "Error processing line 1 of /anaconda3/lib/python3.7/site-packages/protobuf-3.10.0-py3.7-nspkg.pth:\n",
      "\n",
      "  Traceback (most recent call last):\n",
      "    File \"/anaconda3/lib/python3.7/site.py\", line 168, in addpackage\n",
      "      exec(line)\n",
      "    File \"<string>\", line 1, in <module>\n",
      "    File \"<frozen importlib._bootstrap>\", line 580, in module_from_spec\n",
      "  AttributeError: 'NoneType' object has no attribute 'loader'\n",
      "\n",
      "Remainder of file ignored\n",
      "Requirement already satisfied: pyro-ppl in /anaconda3/lib/python3.7/site-packages (1.2.1)\n",
      "Requirement already satisfied: opt-einsum>=2.3.2 in /anaconda3/lib/python3.7/site-packages (from pyro-ppl) (3.1.0)\n",
      "Requirement already satisfied: tqdm>=4.36 in /anaconda3/lib/python3.7/site-packages (from pyro-ppl) (4.36.1)\n",
      "Requirement already satisfied: numpy>=1.7 in /anaconda3/lib/python3.7/site-packages (from pyro-ppl) (1.17.2)\n",
      "Requirement already satisfied: torch>=1.4.0 in /anaconda3/lib/python3.7/site-packages (from pyro-ppl) (1.4.0)\n",
      "Requirement already satisfied: pyro-api>=0.1.1 in /anaconda3/lib/python3.7/site-packages (from pyro-ppl) (0.1.1)\n"
     ]
    }
   ],
   "source": [
    "# Install Pyro, if necessary\n",
    "!pip install pyro-ppl"
   ]
  },
  {
   "cell_type": "code",
   "execution_count": 23,
   "metadata": {
    "colab": {},
    "colab_type": "code",
    "id": "iGyKT_grYo4O"
   },
   "outputs": [],
   "source": [
    "import numpy as np\n",
    "import pandas as pd\n",
    "from matplotlib import pyplot as plt\n",
    "from sklearn import linear_model\n",
    "import seaborn as sns\n",
    "import torch\n",
    "\n",
    "import pyro\n",
    "import pyro.distributions as dist\n",
    "from pyro.contrib.autoguide import AutoDiagonalNormal, AutoMultivariateNormal\n",
    "from pyro.infer import MCMC, NUTS, HMC, SVI, Trace_ELBO\n",
    "from pyro.optim import Adam, ClippedAdam\n",
    "\n",
    "# fix random generator seed (for reproducibility of results)\n",
    "np.random.seed(42)\n",
    "\n",
    "# matplotlib style options\n",
    "plt.style.use('ggplot')\n",
    "%matplotlib inline\n",
    "plt.rcParams['figure.figsize'] = (12, 8)"
   ]
  },
  {
   "cell_type": "markdown",
   "metadata": {
    "colab_type": "text",
    "id": "ktkbYC6AYo4X"
   },
   "source": [
    "Load data:"
   ]
  },
  {
   "cell_type": "code",
   "execution_count": 24,
   "metadata": {
    "colab": {
     "base_uri": "https://localhost:8080/",
     "height": 241
    },
    "colab_type": "code",
    "executionInfo": {
     "elapsed": 6447,
     "status": "ok",
     "timestamp": 1582474859333,
     "user": {
      "displayName": "Filipe Rodrigues",
      "photoUrl": "https://lh3.googleusercontent.com/a-/AAuE7mDaWEE0j1oWjHLxVkWKYDXRh8NUBFCgGYF0XZOsvA=s64",
      "userId": "15636531912642599438"
     },
     "user_tz": -60
    },
    "id": "ge0Jqp1xYo4Y",
    "outputId": "0f3dff1d-b3b2-4bc3-919c-7a2f06f16cf9"
   },
   "outputs": [
    {
     "data": {
      "text/html": [
       "<div>\n",
       "<style scoped>\n",
       "    .dataframe tbody tr th:only-of-type {\n",
       "        vertical-align: middle;\n",
       "    }\n",
       "\n",
       "    .dataframe tbody tr th {\n",
       "        vertical-align: top;\n",
       "    }\n",
       "\n",
       "    .dataframe thead th {\n",
       "        text-align: right;\n",
       "    }\n",
       "</style>\n",
       "<table border=\"1\" class=\"dataframe\">\n",
       "  <thead>\n",
       "    <tr style=\"text-align: right;\">\n",
       "      <th></th>\n",
       "      <th>Unnamed: 0</th>\n",
       "      <th>individual</th>\n",
       "      <th>hinc</th>\n",
       "      <th>psize</th>\n",
       "      <th>ttme_air</th>\n",
       "      <th>invc_air</th>\n",
       "      <th>invt_air</th>\n",
       "      <th>gc_air</th>\n",
       "      <th>ttme_train</th>\n",
       "      <th>invc_train</th>\n",
       "      <th>invt_train</th>\n",
       "      <th>gc_train</th>\n",
       "      <th>ttme_bus</th>\n",
       "      <th>invc_bus</th>\n",
       "      <th>invt_bus</th>\n",
       "      <th>gc_bus</th>\n",
       "      <th>invc_car</th>\n",
       "      <th>invt_car</th>\n",
       "      <th>gc_car</th>\n",
       "      <th>mode_chosen</th>\n",
       "    </tr>\n",
       "  </thead>\n",
       "  <tbody>\n",
       "    <tr>\n",
       "      <td>0</td>\n",
       "      <td>0</td>\n",
       "      <td>70.0</td>\n",
       "      <td>30.0</td>\n",
       "      <td>4.0</td>\n",
       "      <td>10.0</td>\n",
       "      <td>61.0</td>\n",
       "      <td>80.0</td>\n",
       "      <td>73.0</td>\n",
       "      <td>44.0</td>\n",
       "      <td>24.0</td>\n",
       "      <td>350.0</td>\n",
       "      <td>77.0</td>\n",
       "      <td>53.0</td>\n",
       "      <td>19.0</td>\n",
       "      <td>395.0</td>\n",
       "      <td>79.0</td>\n",
       "      <td>4.0</td>\n",
       "      <td>314.0</td>\n",
       "      <td>52.0</td>\n",
       "      <td>1.0</td>\n",
       "    </tr>\n",
       "    <tr>\n",
       "      <td>1</td>\n",
       "      <td>1</td>\n",
       "      <td>8.0</td>\n",
       "      <td>15.0</td>\n",
       "      <td>4.0</td>\n",
       "      <td>64.0</td>\n",
       "      <td>48.0</td>\n",
       "      <td>154.0</td>\n",
       "      <td>71.0</td>\n",
       "      <td>55.0</td>\n",
       "      <td>25.0</td>\n",
       "      <td>360.0</td>\n",
       "      <td>80.0</td>\n",
       "      <td>53.0</td>\n",
       "      <td>14.0</td>\n",
       "      <td>462.0</td>\n",
       "      <td>84.0</td>\n",
       "      <td>4.0</td>\n",
       "      <td>351.0</td>\n",
       "      <td>57.0</td>\n",
       "      <td>2.0</td>\n",
       "    </tr>\n",
       "    <tr>\n",
       "      <td>2</td>\n",
       "      <td>2</td>\n",
       "      <td>62.0</td>\n",
       "      <td>35.0</td>\n",
       "      <td>2.0</td>\n",
       "      <td>64.0</td>\n",
       "      <td>58.0</td>\n",
       "      <td>74.0</td>\n",
       "      <td>69.0</td>\n",
       "      <td>30.0</td>\n",
       "      <td>21.0</td>\n",
       "      <td>295.0</td>\n",
       "      <td>66.0</td>\n",
       "      <td>53.0</td>\n",
       "      <td>24.0</td>\n",
       "      <td>389.0</td>\n",
       "      <td>83.0</td>\n",
       "      <td>7.0</td>\n",
       "      <td>315.0</td>\n",
       "      <td>55.0</td>\n",
       "      <td>2.0</td>\n",
       "    </tr>\n",
       "    <tr>\n",
       "      <td>3</td>\n",
       "      <td>3</td>\n",
       "      <td>61.0</td>\n",
       "      <td>40.0</td>\n",
       "      <td>3.0</td>\n",
       "      <td>45.0</td>\n",
       "      <td>75.0</td>\n",
       "      <td>75.0</td>\n",
       "      <td>96.0</td>\n",
       "      <td>44.0</td>\n",
       "      <td>33.0</td>\n",
       "      <td>418.0</td>\n",
       "      <td>96.0</td>\n",
       "      <td>53.0</td>\n",
       "      <td>28.0</td>\n",
       "      <td>463.0</td>\n",
       "      <td>98.0</td>\n",
       "      <td>5.0</td>\n",
       "      <td>291.0</td>\n",
       "      <td>49.0</td>\n",
       "      <td>1.0</td>\n",
       "    </tr>\n",
       "    <tr>\n",
       "      <td>4</td>\n",
       "      <td>4</td>\n",
       "      <td>27.0</td>\n",
       "      <td>70.0</td>\n",
       "      <td>1.0</td>\n",
       "      <td>20.0</td>\n",
       "      <td>106.0</td>\n",
       "      <td>190.0</td>\n",
       "      <td>127.0</td>\n",
       "      <td>34.0</td>\n",
       "      <td>72.0</td>\n",
       "      <td>659.0</td>\n",
       "      <td>143.0</td>\n",
       "      <td>35.0</td>\n",
       "      <td>33.0</td>\n",
       "      <td>653.0</td>\n",
       "      <td>104.0</td>\n",
       "      <td>44.0</td>\n",
       "      <td>592.0</td>\n",
       "      <td>108.0</td>\n",
       "      <td>1.0</td>\n",
       "    </tr>\n",
       "  </tbody>\n",
       "</table>\n",
       "</div>"
      ],
      "text/plain": [
       "   Unnamed: 0  individual  hinc  psize  ttme_air  invc_air  invt_air  gc_air  \\\n",
       "0           0        70.0  30.0    4.0      10.0      61.0      80.0    73.0   \n",
       "1           1         8.0  15.0    4.0      64.0      48.0     154.0    71.0   \n",
       "2           2        62.0  35.0    2.0      64.0      58.0      74.0    69.0   \n",
       "3           3        61.0  40.0    3.0      45.0      75.0      75.0    96.0   \n",
       "4           4        27.0  70.0    1.0      20.0     106.0     190.0   127.0   \n",
       "\n",
       "   ttme_train  invc_train  invt_train  gc_train  ttme_bus  invc_bus  invt_bus  \\\n",
       "0        44.0        24.0       350.0      77.0      53.0      19.0     395.0   \n",
       "1        55.0        25.0       360.0      80.0      53.0      14.0     462.0   \n",
       "2        30.0        21.0       295.0      66.0      53.0      24.0     389.0   \n",
       "3        44.0        33.0       418.0      96.0      53.0      28.0     463.0   \n",
       "4        34.0        72.0       659.0     143.0      35.0      33.0     653.0   \n",
       "\n",
       "   gc_bus  invc_car  invt_car  gc_car  mode_chosen  \n",
       "0    79.0       4.0     314.0    52.0          1.0  \n",
       "1    84.0       4.0     351.0    57.0          2.0  \n",
       "2    83.0       7.0     315.0    55.0          2.0  \n",
       "3    98.0       5.0     291.0    49.0          1.0  \n",
       "4   104.0      44.0     592.0   108.0          1.0  "
      ]
     },
     "execution_count": 24,
     "metadata": {},
     "output_type": "execute_result"
    }
   ],
   "source": [
    "# load csv\n",
    "df = pd.read_csv(\"http://mlsm.man.dtu.dk/mbml/modechoice_data.csv\")\n",
    "df.head()"
   ]
  },
  {
   "cell_type": "markdown",
   "metadata": {
    "colab_type": "text",
    "id": "1hU6yfIkYo4g"
   },
   "source": [
    "Preprocess data:"
   ]
  },
  {
   "cell_type": "code",
   "execution_count": 25,
   "metadata": {
    "colab": {
     "base_uri": "https://localhost:8080/",
     "height": 68
    },
    "colab_type": "code",
    "executionInfo": {
     "elapsed": 5127,
     "status": "ok",
     "timestamp": 1582474859333,
     "user": {
      "displayName": "Filipe Rodrigues",
      "photoUrl": "https://lh3.googleusercontent.com/a-/AAuE7mDaWEE0j1oWjHLxVkWKYDXRh8NUBFCgGYF0XZOsvA=s64",
      "userId": "15636531912642599438"
     },
     "user_tz": -60
    },
    "id": "YM1a3K6tYo4l",
    "outputId": "cbc0d5a0-bf67-4071-f4c0-5a50c15430a8"
   },
   "outputs": [
    {
     "name": "stdout",
     "output_type": "stream",
     "text": [
      "(394, 17)\n",
      "(394,)\n",
      "(394,)\n"
     ]
    }
   ],
   "source": [
    "# separate between features/inputs (X) and target/output variables (y)\n",
    "mat = df.values\n",
    "X = mat[:,2:-1]\n",
    "print(X.shape)\n",
    "y = mat[:,-1].astype(\"int\")\n",
    "print(y.shape)\n",
    "ind = mat[:,1].astype(\"int\")\n",
    "print(ind.shape)"
   ]
  },
  {
   "cell_type": "code",
   "execution_count": 26,
   "metadata": {
    "colab": {},
    "colab_type": "code",
    "id": "CCfLRqloYo40"
   },
   "outputs": [],
   "source": [
    "# standardize input features\n",
    "X_mean = X.mean(axis=0)\n",
    "X_std = X.std(axis=0)\n",
    "X = (X - X_mean) / X_std"
   ]
  },
  {
   "cell_type": "markdown",
   "metadata": {
    "colab_type": "text",
    "id": "tOHgHdqIYo44"
   },
   "source": [
    "Train/test split:"
   ]
  },
  {
   "cell_type": "code",
   "execution_count": 27,
   "metadata": {
    "colab": {
     "base_uri": "https://localhost:8080/",
     "height": 51
    },
    "colab_type": "code",
    "executionInfo": {
     "elapsed": 2313,
     "status": "ok",
     "timestamp": 1582474859335,
     "user": {
      "displayName": "Filipe Rodrigues",
      "photoUrl": "https://lh3.googleusercontent.com/a-/AAuE7mDaWEE0j1oWjHLxVkWKYDXRh8NUBFCgGYF0XZOsvA=s64",
      "userId": "15636531912642599438"
     },
     "user_tz": -60
    },
    "id": "_I_7L2kpYo45",
    "outputId": "a9a82d00-7e51-4447-b640-6373a90a2f06"
   },
   "outputs": [
    {
     "name": "stdout",
     "output_type": "stream",
     "text": [
      "num train: 260\n",
      "num test: 134\n"
     ]
    }
   ],
   "source": [
    "train_perc = 0.66 # percentage of training data\n",
    "split_point = int(train_perc*len(y))\n",
    "perm = np.random.permutation(len(y))\n",
    "ix_train = perm[:split_point]\n",
    "ix_test = perm[split_point:]\n",
    "X_train = X[ix_train,:]\n",
    "X_test = X[ix_test,:]\n",
    "ind_train = ind[ix_train]\n",
    "ind_test = ind[ix_test]\n",
    "y_train = y[ix_train]\n",
    "y_test = y[ix_test]\n",
    "print(\"num train: %d\" % len(y_train))\n",
    "print(\"num test: %d\" % len(y_test))"
   ]
  },
  {
   "cell_type": "markdown",
   "metadata": {
    "colab_type": "text",
    "id": "fEPbzWSAYo5P"
   },
   "source": [
    "Our baseline logistic regression model from sklearn:"
   ]
  },
  {
   "cell_type": "code",
   "execution_count": 28,
   "metadata": {
    "colab": {
     "base_uri": "https://localhost:8080/",
     "height": 170
    },
    "colab_type": "code",
    "executionInfo": {
     "elapsed": 635,
     "status": "ok",
     "timestamp": 1582474859336,
     "user": {
      "displayName": "Filipe Rodrigues",
      "photoUrl": "https://lh3.googleusercontent.com/a-/AAuE7mDaWEE0j1oWjHLxVkWKYDXRh8NUBFCgGYF0XZOsvA=s64",
      "userId": "15636531912642599438"
     },
     "user_tz": -60
    },
    "id": "CDvvr1PrYo5S",
    "outputId": "8f57e9d7-58af-4d35-8689-dd1f8069185a"
   },
   "outputs": [
    {
     "name": "stdout",
     "output_type": "stream",
     "text": [
      "predictions: [2 2 4 4 4 2 4 1 4 4 4 3 1 4 2 1 4 2 1 4 4 4 4 4 2 4 1 4 1 2 4 4 4 2 3 4 4\n",
      " 3 2 4 4 4 2 2 2 4 1 3 2 3 1 2 4 1 1 4 2 4 4 1 3 2 4 2 4 4 4 3 2 3 2 4 2 4\n",
      " 4 4 1 4 2 2 4 4 1 4 3 4 4 2 1 4 3 1 4 2 1 4 1 4 4 4 1 1 2 1 3 2 4 4 4 4 4\n",
      " 4 4 1 3 3 1 4 3 2 4 1 4 2 1 3 2 2 2 4 4 4 4 2]\n",
      "true values: [4 2 2 4 4 2 1 2 4 4 4 4 1 2 2 1 3 4 1 2 4 3 1 4 2 4 2 1 3 2 4 4 4 4 2 1 1\n",
      " 3 2 1 4 2 2 2 4 1 1 3 2 3 1 2 4 4 1 4 2 4 4 3 3 4 4 4 4 1 1 3 2 1 2 4 2 4\n",
      " 4 4 1 2 4 2 4 4 1 4 3 1 4 4 1 4 3 1 1 2 4 4 4 4 4 1 4 3 3 1 3 2 4 4 4 1 4\n",
      " 4 4 1 4 1 1 4 3 2 1 1 4 2 4 1 2 4 2 1 1 1 4 4]\n",
      "Accuracy: 0.6194029850746269\n"
     ]
    }
   ],
   "source": [
    "# create and fit logistic regression model\n",
    "logreg = linear_model.LogisticRegression(solver='lbfgs', multi_class='auto')\n",
    "logreg.fit(X_train, y_train)\n",
    "\n",
    "# make predictions for test set\n",
    "y_hat = logreg.predict(X_test)\n",
    "print(\"predictions:\", y_hat)\n",
    "print(\"true values:\", y_test)\n",
    "\n",
    "# evaluate prediction accuracy\n",
    "print(\"Accuracy:\", 1.0*np.sum(y_hat == y_test) / len(y_test))"
   ]
  },
  {
   "cell_type": "markdown",
   "metadata": {
    "colab_type": "text",
    "id": "fG-46wBlYo5d"
   },
   "source": [
    "## Hierarchical logistic regression in Pyro\n",
    "\n",
    "We will now implement a hierarchical logistic regression. The motivation is actually quite simple. Our dataset consists of multiple observations from various individuals. However, when we build our original logistic regression in Pyro, our specification assumes that all individuals share a unique set of bias (alpha) coefficients (beta). In other words, this is equivalent to assuming, for example, that all individuals are equally biased towards a given mode (e.g. car). This is obviously a very strong assumption, right? We should allow different individuals to have different biases (alpha). (We could also consider different coefficients per individual, but for the sake of simplicy, we will just focus on the bias parameters)\n",
    "\n",
    "This can be done by placing a hierarchical prior on the intercepts (alpha). The generative process then becomes:\n",
    "\n",
    "1. For each class $c \\in \\{1,\\dots,C\\}$\n",
    "    2. Draw global intercept mean $\\mu_c \\sim \\mathcal{N}(0,10)$\n",
    "    3. Draw global intercept variance $\\sigma_c \\sim \\mbox{Cauchy}(0,10)$\n",
    "    5. Draw coefficients $\\boldsymbol\\beta_c \\sim \\mathcal{N}(\\textbf{0},10 \\, \\textbf{I})$ (this the same as before...)\n",
    "    6. For each individual $i \\in \\{1,\\dots,I\\}$\n",
    "        4. Draw $\\alpha_{i,c}$ such that $\\alpha_{i,c} \\sim \\mathcal{N}(\\mu_c,\\sigma_c)$\n",
    "\n",
    "6. For each data point $n=\\{1,\\dots,N\\}$\n",
    "    7. Draw target class $y_n \\sim \\mbox{Multinomial}(\\mbox{Softmax}(\\textbf{x}_n,\\boldsymbol\\alpha_{i_n},\\boldsymbol\\beta_1,\\dots,\\boldsymbol\\beta_C))$\n",
    "    \n",
    "where $i_n$ is the individual identifier for person $n$, and $\\boldsymbol\\mu=\\{\\mu_1\\dots\\mu_C\\}$ and $\\boldsymbol\\sigma=\\{\\sigma_1\\dots\\sigma_C\\}$.\n",
    "\n",
    "Notice that now, instead of a single intercept per class $\\alpha_c$ for all individual, we now have a vector of intercepts $\\boldsymbol\\alpha_c$ for each class $c$: one intercept parameter per individual! However, all these intercept share a global (population-level) prior.\n",
    "\n",
    "Let's try to implement this in Pyro. Can you do it? :-) "
   ]
  },
  {
   "cell_type": "code",
   "execution_count": 29,
   "metadata": {
    "colab": {},
    "colab_type": "code",
    "id": "mW8SMzRAdYK1"
   },
   "outputs": [],
   "source": [
    "def hierarchical_model(X, ind, n_cat, n_ind, obs=None):\n",
    "    input_dim = X.shape[1]\n",
    "    alpha_mu = pyro.sample(\"alpha_mu\", dist.Normal(torch.zeros(n_cat), \n",
    "                                                       10.*torch.ones(n_cat))) # Prior for the bias mean\n",
    "    alpha_sigma  = pyro.sample(\"alpha_sigma\",  dist.HalfCauchy(10.*torch.ones(n_cat))) # Prior for the bias standard deviation\n",
    "    beta  = pyro.sample(\"beta\", dist.Normal(torch.zeros(input_dim, n_cat), \n",
    "                                            10.*torch.ones(input_dim, n_cat))) # Priors for the regression coefficents\n",
    "    \n",
    "    with pyro.plate(\"ind\", n_ind):\n",
    "        alpha = pyro.sample(\"alpha\", dist.Normal(alpha_mu, alpha_sigma).to_event(1)) # Draw the individual parameter for each individual\n",
    "\n",
    "    with pyro.plate(\"data\", X.shape[0]):\n",
    "        logits = alpha[ind] + X.matmul(beta)\n",
    "        y = pyro.sample(\"y\", dist.Categorical(logits=logits), obs=obs) # If you use logits you don't need to do sigmoid\n",
    "        \n",
    "    return y"
   ]
  },
  {
   "cell_type": "markdown",
   "metadata": {
    "colab_type": "text",
    "id": "XlAW5Nal5_YJ"
   },
   "source": [
    "Prepare the data for Pyro:"
   ]
  },
  {
   "cell_type": "code",
   "execution_count": 30,
   "metadata": {
    "colab": {},
    "colab_type": "code",
    "id": "v9ECY8esbIM-"
   },
   "outputs": [],
   "source": [
    "# Prepare data for Pyro model\n",
    "n_cat = int(y_train.max())\n",
    "n_ind = ind.max()\n",
    "X_train = torch.tensor(X_train).float()\n",
    "y_train = torch.tensor(y_train).float()\n",
    "ind_train = torch.tensor(ind_train).long() # these are indices, therefore they need to be (long) integers"
   ]
  },
  {
   "cell_type": "markdown",
   "metadata": {
    "colab_type": "text",
    "id": "5OsqmNj76EjQ"
   },
   "source": [
    "Run inference using SVI:"
   ]
  },
  {
   "cell_type": "code",
   "execution_count": 31,
   "metadata": {
    "colab": {
     "base_uri": "https://localhost:8080/",
     "height": 459
    },
    "colab_type": "code",
    "executionInfo": {
     "elapsed": 176815,
     "status": "ok",
     "timestamp": 1582476258105,
     "user": {
      "displayName": "Filipe Rodrigues",
      "photoUrl": "https://lh3.googleusercontent.com/a-/AAuE7mDaWEE0j1oWjHLxVkWKYDXRh8NUBFCgGYF0XZOsvA=s64",
      "userId": "15636531912642599438"
     },
     "user_tz": -60
    },
    "id": "J4rL9f7TbY2p",
    "outputId": "1547ea53-43b2-4620-b7bf-dffe03b23542"
   },
   "outputs": [
    {
     "name": "stdout",
     "output_type": "stream",
     "text": [
      "[0] ELBO: 5152.9\n",
      "[500] ELBO: 569.7\n",
      "[1000] ELBO: 453.8\n",
      "[1500] ELBO: 427.6\n",
      "[2000] ELBO: 460.0\n",
      "[2500] ELBO: 431.9\n",
      "[3000] ELBO: 413.8\n",
      "[3500] ELBO: 425.4\n",
      "[4000] ELBO: 419.0\n",
      "[4500] ELBO: 402.9\n",
      "[5000] ELBO: 406.9\n",
      "[5500] ELBO: 404.4\n",
      "[6000] ELBO: 398.4\n",
      "[6500] ELBO: 404.4\n",
      "[7000] ELBO: 390.2\n",
      "[7500] ELBO: 384.6\n",
      "[8000] ELBO: 413.2\n",
      "[8500] ELBO: 387.2\n",
      "[9000] ELBO: 391.1\n",
      "[9500] ELBO: 394.8\n",
      "[10000] ELBO: 404.4\n",
      "[10500] ELBO: 409.4\n",
      "[11000] ELBO: 389.7\n",
      "[11500] ELBO: 411.1\n",
      "CPU times: user 2min 35s, sys: 2.25 s, total: 2min 37s\n",
      "Wall time: 2min 43s\n"
     ]
    }
   ],
   "source": [
    "%%time\n",
    "\n",
    "# Define guide function\n",
    "guide = AutoDiagonalNormal(hierarchical_model)\n",
    "\n",
    "# Reset parameter values\n",
    "pyro.clear_param_store()\n",
    "\n",
    "# Define the number of optimization steps\n",
    "n_steps = 12000\n",
    "\n",
    "# Setup the optimizer\n",
    "adam_params = {\"lr\": 0.01}\n",
    "optimizer = ClippedAdam(adam_params)\n",
    "\n",
    "# Setup the inference algorithm\n",
    "elbo = Trace_ELBO(num_particles=3)\n",
    "svi = SVI(hierarchical_model, guide, optimizer, loss=elbo)\n",
    "\n",
    "# Do gradient steps\n",
    "for step in range(n_steps):\n",
    "    elbo = svi.step(X_train, ind_train-1, n_cat, n_ind, y_train-1)\n",
    "    if step % 500 == 0:\n",
    "        print(\"[%d] ELBO: %.1f\" % (step, elbo))"
   ]
  },
  {
   "cell_type": "markdown",
   "metadata": {
    "colab_type": "text",
    "id": "7SZ5VKJw6SpM"
   },
   "source": [
    "Once converged, let's extract the posterior samples for the latent variables in the model using Pyro's ```Predictive``` class:"
   ]
  },
  {
   "cell_type": "code",
   "execution_count": 32,
   "metadata": {
    "colab": {},
    "colab_type": "code",
    "id": "_kVc2g5IcD4L"
   },
   "outputs": [],
   "source": [
    "from pyro.infer import Predictive\n",
    "\n",
    "predictive = Predictive(hierarchical_model, guide=guide, num_samples=2000,\n",
    "                        return_sites=(\"beta\", \"alpha\", \"alpha_mu\", \"alpha_sigma\"))\n",
    "samples = predictive(X_train, ind_train-1, n_cat, n_ind, y_train-1)"
   ]
  },
  {
   "cell_type": "markdown",
   "metadata": {
    "colab_type": "text",
    "id": "nhefEPBLYo5t"
   },
   "source": [
    "Lets plot the posterior distributions of some of the parameters of our model (you may have called these variables something else...):"
   ]
  },
  {
   "cell_type": "code",
   "execution_count": 33,
   "metadata": {
    "colab": {},
    "colab_type": "code",
    "id": "py56NfeM6Kuv"
   },
   "outputs": [],
   "source": [
    "beta_samples = samples[\"beta\"].detach().numpy()\n",
    "alpha_samples = samples[\"alpha\"].detach().numpy()\n",
    "alpha_mu_samples = samples[\"alpha_mu\"].detach().numpy()\n",
    "alpha_sigma_samples = samples[\"alpha_sigma\"].detach().numpy()"
   ]
  },
  {
   "cell_type": "code",
   "execution_count": 34,
   "metadata": {
    "colab": {
     "base_uri": "https://localhost:8080/",
     "height": 483
    },
    "colab_type": "code",
    "executionInfo": {
     "elapsed": 1229,
     "status": "ok",
     "timestamp": 1582476324896,
     "user": {
      "displayName": "Filipe Rodrigues",
      "photoUrl": "https://lh3.googleusercontent.com/a-/AAuE7mDaWEE0j1oWjHLxVkWKYDXRh8NUBFCgGYF0XZOsvA=s64",
      "userId": "15636531912642599438"
     },
     "user_tz": -60
    },
    "id": "7eLQ2JAt7dYm",
    "outputId": "f24870db-bb92-4aab-dffe-ad994a98d685"
   },
   "outputs": [
    {
     "data": {
      "image/png": "[encoded data removed]",
      "text/plain": [
       "<Figure size 864x576 with 1 Axes>"
      ]
     },
     "metadata": {
      "needs_background": "light"
     },
     "output_type": "display_data"
    }
   ],
   "source": [
    "for c in range(n_cat):\n",
    "    sns.distplot(alpha_mu_samples[:,c])\n",
    "plt.legend([\"alpha_mu[%d]\" % c for c in range(n_cat)])\n",
    "plt.show()"
   ]
  },
  {
   "cell_type": "code",
   "execution_count": 35,
   "metadata": {
    "colab": {
     "base_uri": "https://localhost:8080/",
     "height": 483
    },
    "colab_type": "code",
    "executionInfo": {
     "elapsed": 1378,
     "status": "ok",
     "timestamp": 1582476349095,
     "user": {
      "displayName": "Filipe Rodrigues",
      "photoUrl": "https://lh3.googleusercontent.com/a-/AAuE7mDaWEE0j1oWjHLxVkWKYDXRh8NUBFCgGYF0XZOsvA=s64",
      "userId": "15636531912642599438"
     },
     "user_tz": -60
    },
    "id": "yCSojMDr8DVL",
    "outputId": "818d2713-0010-45da-f39d-b9114a40b387"
   },
   "outputs": [
    {
     "data": {
      "image/png": "[encoded data removed]",
      "text/plain": [
       "<Figure size 864x576 with 1 Axes>"
      ]
     },
     "metadata": {
      "needs_background": "light"
     },
     "output_type": "display_data"
    }
   ],
   "source": [
    "for c in range(n_cat):\n",
    "    sns.distplot(alpha_sigma_samples[:,c])\n",
    "plt.legend([\"alpha_sigma[%d]\" % c for c in range(n_cat)])\n",
    "plt.show()"
   ]
  },
  {
   "cell_type": "markdown",
   "metadata": {
    "colab_type": "text",
    "id": "H5DifBxMYo53"
   },
   "source": [
    "We can now use the inferred posteriors to make predictions:"
   ]
  },
  {
   "cell_type": "code",
   "execution_count": 36,
   "metadata": {
    "colab": {},
    "colab_type": "code",
    "id": "9guRlwr39B_5"
   },
   "outputs": [],
   "source": [
    "# extract expected values of the parameters\n",
    "alpha_hat = samples[\"alpha\"].mean(axis=0).detach().numpy()\n",
    "beta_hat = samples[\"beta\"].mean(axis=0).detach().numpy()"
   ]
  },
  {
   "cell_type": "markdown",
   "metadata": {
    "colab_type": "text",
    "id": "YLRzHEFjYo6C"
   },
   "source": [
    "Using expected values of the parameters, we can make predictions for the testset. However, we need to account for the fact that we now have different bias parameters per-individual, and adapt the code for making predictions accordingly. Make sure that you understand the code below. As always, if something is not 100% clear, ask! :-)"
   ]
  },
  {
   "cell_type": "code",
   "execution_count": 37,
   "metadata": {
    "colab": {},
    "colab_type": "code",
    "id": "sTiJvOS6Yo6F",
    "outputId": "ce20e1d0-3d32-4bd4-cc70-abea99c53632"
   },
   "outputs": [
    {
     "name": "stdout",
     "output_type": "stream",
     "text": [
      "predictions: [2 2 4 4 4 2 1 4 1 4 4 4 4 2 2 1 4 4 1 2 1 1 4 2 2 4 2 1 1 2 4 4 2 2 3 1 1\n",
      " 3 2 4 4 2 2 2 4 1 1 3 2 3 1 2 1 4 1 4 2 4 4 1 3 4 4 2 1 1 4 3 2 1 2 4 2 4\n",
      " 4 4 1 4 4 2 4 4 1 4 3 2 4 4 1 4 3 1 1 2 1 4 4 1 4 1 1 4 2 4 3 2 4 4 1 1 4\n",
      " 2 3 1 4 1 4 4 3 2 1 1 4 2 1 1 2 2 2 1 1 2 4 4]\n",
      "true values: [4 2 2 4 4 2 1 2 4 4 4 4 1 2 2 1 3 4 1 2 4 3 1 4 2 4 2 1 3 2 4 4 4 4 2 1 1\n",
      " 3 2 1 4 2 2 2 4 1 1 3 2 3 1 2 4 4 1 4 2 4 4 3 3 4 4 4 4 1 1 3 2 1 2 4 2 4\n",
      " 4 4 1 2 4 2 4 4 1 4 3 1 4 4 1 4 3 1 1 2 4 4 4 4 4 1 4 3 3 1 3 2 4 4 4 1 4\n",
      " 4 4 1 4 1 1 4 3 2 1 1 4 2 4 1 2 4 2 1 1 1 4 4]\n",
      "Accuracy: 0.7388059701492538\n"
     ]
    }
   ],
   "source": [
    "# make predictions for test set\n",
    "y_hat = alpha_hat[ind_test-1,:] + np.dot(X_test, beta_hat)\n",
    "y_hat = np.argmax(y_hat, axis=1) + 1\n",
    "print(\"predictions:\", y_hat)\n",
    "print(\"true values:\", y_test)\n",
    "\n",
    "# evaluate prediction accuracy\n",
    "print(\"Accuracy:\", 1.0*np.sum(y_hat == y_test) / len(y_test))"
   ]
  },
  {
   "cell_type": "markdown",
   "metadata": {
    "colab_type": "text",
    "id": "eMnH6DxwYo6J"
   },
   "source": [
    "Now, that is a signficant improvement, right? We improved the accuracy of our model from about 61% to nearly 78.4%! :-) \n",
    "\n",
    "(Hopefully you were able to obtain a similar or even better result... If not, go back to optimization procedure of SVI above and try tweaking the learning rate ```lr```, the number of gradient steps ```n_steps``` and the ```num_particles```. Try to understand how those affect the convergence, stability and results of SVI.)\n",
    "\n",
    "Did you see how your prior knowledge about the problem can make a substantial difference when building a model for it? This is how things are done in the model-based machine learning approach!"
   ]
  },
  {
   "cell_type": "markdown",
   "metadata": {
    "colab_type": "text",
    "id": "pkktkF1TYo6K"
   },
   "source": [
    "Given the posterior distributions inferred by Pyro, we can even analyse the biases of different individuals identified by our model:"
   ]
  },
  {
   "cell_type": "code",
   "execution_count": 38,
   "metadata": {
    "colab": {
     "base_uri": "https://localhost:8080/",
     "height": 1000
    },
    "colab_type": "code",
    "executionInfo": {
     "elapsed": 684,
     "status": "ok",
     "timestamp": 1582476996481,
     "user": {
      "displayName": "Filipe Rodrigues",
      "photoUrl": "https://lh3.googleusercontent.com/a-/AAuE7mDaWEE0j1oWjHLxVkWKYDXRh8NUBFCgGYF0XZOsvA=s64",
      "userId": "15636531912642599438"
     },
     "user_tz": -60
    },
    "id": "mmGtSIPI-ZMd",
    "outputId": "f89ce7ca-3c9a-4829-c941-729400a53a02"
   },
   "outputs": [
    {
     "name": "stdout",
     "output_type": "stream",
     "text": [
      "0 [ 0.84   0.368 -3.315 10.884]\n",
      "1 [ 0.998  0.347 -4.821  2.77 ]\n",
      "2 [ 1.056  0.482 -4.928 -2.886]\n",
      "3 [ 1.039  0.438 -4.584 -4.22 ]\n",
      "4 [ 1.058  0.024  0.602 -0.192]\n",
      "5 [ 0.953  0.331 -0.828 -0.199]\n",
      "6 [0.696 0.408 1.474 3.143]\n",
      "7 [ 0.814  0.493 -0.949 -2.221]\n",
      "8 [ 0.971  0.475 -4.04  -1.285]\n",
      "9 [ 0.923  0.386 -3.695 13.882]\n",
      "10 [ 1.042  0.421 -5.081 -6.997]\n",
      "11 [ 0.885  0.531 -3.239  1.136]\n",
      "12 [ 0.67   0.745 -4.418  6.037]\n",
      "13 [ 0.899  0.572 -3.419 -2.722]\n",
      "14 [ 0.967  0.45  -4.36   0.854]\n",
      "15 [ 0.911  0.481 -3.772  5.9  ]\n",
      "16 [ 0.877  0.42  -3.766 -3.591]\n",
      "17 [ 0.931  0.322 -3.196  5.512]\n",
      "18 [ 0.844  0.637 -4.269 -0.45 ]\n",
      "19 [ 0.806  0.443 -1.058  9.993]\n",
      "20 [ 0.863  0.449 -3.607  3.045]\n",
      "21 [ 0.926  0.443 -3.873 -3.949]\n",
      "22 [ 0.781  0.515 -1.455 -5.375]\n",
      "23 [ 0.857  0.575 -3.79   3.36 ]\n",
      "24 [ 0.93   0.434 -3.636  8.906]\n",
      "25 [ 0.938  0.431 -4.105 -3.299]\n",
      "26 [ 1.06   0.49  -5.089  0.069]\n",
      "27 [ 0.893  0.536 -3.52   3.909]\n",
      "28 [ 0.959  0.399 -4.069 26.383]\n",
      "29 [ 0.707  0.499  0.315 -4.621]\n",
      "30 [ 0.8    0.764 -8.159  7.86 ]\n",
      "31 [ 0.959  0.424 -3.431  7.494]\n",
      "32 [ 0.998  0.432 -4.413 -6.722]\n",
      "33 [ 0.915  0.418 -3.041  2.809]\n",
      "34 [ 0.832  0.499 -3.638  0.214]\n",
      "35 [ 0.99   0.458 -3.852 -3.011]\n",
      "36 [ 0.848  0.587 -3.849  0.141]\n",
      "37 [ 0.975  0.343 -3.627 -2.888]\n",
      "38 [ 0.92   0.409 -4.889 22.276]\n",
      "39 [ 0.914  0.331 -2.273  3.793]\n",
      "40 [ 1.193  0.344 -5.007 -8.362]\n",
      "41 [ 1.103  0.221 -4.119 -4.914]\n",
      "42 [ 0.854  0.401 -3.565  9.382]\n",
      "43 [ 0.752  0.456 -3.553 16.708]\n",
      "44 [ 1.035  0.34  -3.882 -6.848]\n",
      "45 [ 0.839  0.472 -3.512  0.103]\n",
      "46 [ 0.721  0.419 -1.422  1.244]\n",
      "47 [ 0.85   0.266 -3.35  16.507]\n",
      "48 [ 0.93   0.347 -3.561 17.61 ]\n",
      "49 [ 0.801  0.622 -4.152 -4.56 ]\n",
      "50 [ 0.964  0.535 -3.56  -3.607]\n",
      "51 [ 1.076  0.352 -4.751 -4.928]\n",
      "52 [ 0.897  0.437 -3.462 12.689]\n",
      "53 [ 0.87   0.315 -0.088 -7.084]\n",
      "54 [ 0.944  0.342 -3.687 22.645]\n",
      "55 [ 0.804  0.491 -3.65   9.114]\n",
      "56 [ 0.862  0.42  -3.362  8.647]\n",
      "57 [ 0.945  0.528 -3.821 -4.081]\n",
      "58 [  0.712   0.98   -5.672 -10.93 ]\n",
      "59 [ 0.799  0.427 -3.589 23.069]\n",
      "60 [ 0.924  0.496 -3.413 -6.404]\n",
      "61 [ 0.978  0.449 -3.995 -4.742]\n",
      "62 [ 0.91   0.498 -3.515 -0.792]\n",
      "63 [ 0.922  0.478 -5.214  4.972]\n",
      "64 [ 0.976  0.374 -3.871  2.159]\n",
      "65 [ 0.849  0.456 -3.78   9.106]\n",
      "66 [ 0.978  0.32  -3.447 26.062]\n",
      "67 [ 0.669  0.874 -4.245 -0.911]\n",
      "68 [ 0.987  0.383 -4.652 -3.371]\n",
      "69 [ 1.016  0.317 -3.68   4.753]\n",
      "70 [ 0.908  0.401 -4.511 21.608]\n",
      "71 [ 0.912  0.398 -3.481 -3.544]\n",
      "72 [ 0.665  0.853 -3.498 -5.001]\n",
      "73 [ 1.089  0.196 -4.504  3.19 ]\n",
      "74 [ 0.774  0.625 -5.093  5.399]\n",
      "75 [ 0.722  0.456  1.116 -7.592]\n",
      "76 [ 0.966  0.473 -3.577  3.042]\n",
      "77 [ 0.889  0.444 -3.454  1.945]\n",
      "78 [ 0.983  0.448 -4.266 -6.411]\n",
      "79 [ 0.956  0.4   -3.864 -4.274]\n"
     ]
    }
   ],
   "source": [
    "np.set_printoptions(precision=3)\n",
    "for i in range(n_ind):\n",
    "    print(i, alpha_hat[i,:])"
   ]
  },
  {
   "cell_type": "markdown",
   "metadata": {
    "colab_type": "text",
    "id": "nnh9VCouYo6T"
   },
   "source": [
    "Perhaps a histogram allows for a better global analysis:"
   ]
  },
  {
   "cell_type": "code",
   "execution_count": 39,
   "metadata": {
    "colab": {
     "base_uri": "https://localhost:8080/",
     "height": 517
    },
    "colab_type": "code",
    "executionInfo": {
     "elapsed": 804,
     "status": "ok",
     "timestamp": 1582477027799,
     "user": {
      "displayName": "Filipe Rodrigues",
      "photoUrl": "https://lh3.googleusercontent.com/a-/AAuE7mDaWEE0j1oWjHLxVkWKYDXRh8NUBFCgGYF0XZOsvA=s64",
      "userId": "15636531912642599438"
     },
     "user_tz": -60
    },
    "id": "99egp_N2Yo6V",
    "outputId": "4b01917f-4665-4036-8b03-57684a7391fa"
   },
   "outputs": [
    {
     "data": {
      "image/png": "[encoded data removed]",
      "text/plain": [
       "<Figure size 864x576 with 1 Axes>"
      ]
     },
     "metadata": {
      "needs_background": "light"
     },
     "output_type": "display_data"
    }
   ],
   "source": [
    "# histogram of biases towards mode 4 (car)\n",
    "plt.hist(alpha_hat[:,3])\n",
    "plt.title(\"Biases towards mode 4\")\n",
    "plt.xlabel(\"alpha[4]\")\n",
    "plt.show()"
   ]
  },
  {
   "cell_type": "markdown",
   "metadata": {
    "colab_type": "text",
    "id": "49CwMD4SYo6Y"
   },
   "source": [
    "We can observe that, for most individuals the biases is around 0. However, we can also see that a few individuals really love their cars!\n",
    "\n",
    "Reflection exercise: can you think of ways in which you could use this model to try to identify policies (e.g. price changes or making terminals more efficient) that would allow to shift people's travel mode choices away from the car (e.g. towards public transport)?"
   ]
  }
 ],
 "metadata": {
  "colab": {
   "collapsed_sections": [],
   "name": "06 - Classification models - Part 4 - Pyro - solutions.ipynb",
   "provenance": [
    {
     "file_id": "1zDyH0gmY7AuI_B2WhQAOynB4OQT0DzLP",
     "timestamp": 1582453187450
    },
    {
     "file_id": "1oDcOaKqMYlOrjxBYZVdYlG1ftELfczp6",
     "timestamp": 1582450341637
    }
   ]
  },
  "kernelspec": {
   "display_name": "Python 3",
   "language": "python",
   "name": "python3"
  },
  "language_info": {
   "codemirror_mode": {
    "name": "ipython",
    "version": 3
   },
   "file_extension": ".py",
   "mimetype": "text/x-python",
   "name": "python",
   "nbconvert_exporter": "python",
   "pygments_lexer": "ipython3",
   "version": "3.7.7"
  }
 },
 "nbformat": 4,
 "nbformat_minor": 1
}
